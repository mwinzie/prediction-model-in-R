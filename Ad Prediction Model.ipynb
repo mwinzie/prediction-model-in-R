{
 "cells": [
  {
   "cell_type": "markdown",
   "metadata": {},
   "source": [
    "# Problem Statement\n",
    "\n",
    "A Kenyan entrepreneur has created an online cryptography course and would want to advertise it on her blog. She currently targets audiences originating from various countries. In the past, she ran ads to advertise a related course on the same blog and collected data in the process. The project below presents a solution that would allow her to determine whether ads targeted to audiences of certain characteristics i.e. city, male country, ad topic, etc. would click on her ads. \n",
    "\n",
    "The solution involves creating a prediction model that will accurately predict whether a user will click an Ad.\n"
   ]
  },
  {
   "cell_type": "markdown",
   "metadata": {},
   "source": [
    "# Metrics of Success"
   ]
  },
  {
   "cell_type": "markdown",
   "metadata": {},
   "source": [
    "# Experimental Design"
   ]
  },
  {
   "cell_type": "markdown",
   "metadata": {},
   "source": [
    "# Loading the Dataset"
   ]
  },
  {
   "cell_type": "code",
   "execution_count": 207,
   "metadata": {},
   "outputs": [],
   "source": [
    "#code to suppress warnings\n",
    "#setting the option warn \n",
    "options(warn=-1)"
   ]
  },
  {
   "cell_type": "code",
   "execution_count": 208,
   "metadata": {},
   "outputs": [],
   "source": [
    "#installing the packages\n",
    "# List of packages\n",
    "package_list <- c(\"tidyverse\", \"lubridate\", \"readxl\", \"tidyr\", \"Hmisc\", \"skimr\",\n",
    "                  \"ggcorrplot\",\"caret\", \"caretEnsemble\", \"PerformanceAnalytics\",\n",
    "                  \"kableExtra\", \"kernlab\", \"randomForest\", \"xgboost\")\n",
    "\n",
    "# Load/Install packages\n",
    "suppressMessages(pacman::p_load(package_list, character.only = TRUE))"
   ]
  },
  {
   "cell_type": "code",
   "execution_count": null,
   "metadata": {},
   "outputs": [],
   "source": [
    "#installing the package anytime so as to convert the column timestamp into a date datatype\n",
    "install.packages(\"anytime\")"
   ]
  },
  {
   "cell_type": "code",
   "execution_count": 257,
   "metadata": {},
   "outputs": [
    {
     "data": {
      "text/html": [
       "<table>\n",
       "<thead><tr><th scope=col>Daily.Time.Spent.on.Site</th><th scope=col>Age</th><th scope=col>Area.Income</th><th scope=col>Daily.Internet.Usage</th><th scope=col>Ad.Topic.Line</th><th scope=col>City</th><th scope=col>Male</th><th scope=col>Country</th><th scope=col>Timestamp</th><th scope=col>Clicked.on.Ad</th></tr></thead>\n",
       "<tbody>\n",
       "\t<tr><td>68.95                                </td><td>35                                   </td><td>61833.90                             </td><td>256.09                               </td><td>Cloned 5thgeneration orchestration   </td><td>Wrightburgh                          </td><td>0                                    </td><td>Tunisia                              </td><td>2016-03-27 00:53:11                  </td><td>0                                    </td></tr>\n",
       "\t<tr><td>80.23                                </td><td>31                                   </td><td>68441.85                             </td><td>193.77                               </td><td>Monitored national standardization   </td><td>West Jodi                            </td><td>1                                    </td><td>Nauru                                </td><td>2016-04-04 01:39:02                  </td><td>0                                    </td></tr>\n",
       "\t<tr><td>69.47                                </td><td>26                                   </td><td>59785.94                             </td><td>236.50                               </td><td>Organic bottom-line service-desk     </td><td>Davidton                             </td><td>0                                    </td><td>San Marino                           </td><td>2016-03-13 20:35:42                  </td><td>0                                    </td></tr>\n",
       "\t<tr><td>74.15                                </td><td>29                                   </td><td>54806.18                             </td><td>245.89                               </td><td>Triple-buffered reciprocal time-frame</td><td>West Terrifurt                       </td><td>1                                    </td><td>Italy                                </td><td>2016-01-10 02:31:19                  </td><td>0                                    </td></tr>\n",
       "\t<tr><td>68.37                                </td><td>35                                   </td><td>73889.99                             </td><td>225.58                               </td><td>Robust logistical utilization        </td><td>South Manuel                         </td><td>0                                    </td><td>Iceland                              </td><td>2016-06-03 03:36:18                  </td><td>0                                    </td></tr>\n",
       "\t<tr><td>59.99                                </td><td>23                                   </td><td>59761.56                             </td><td>226.74                               </td><td>Sharable client-driven software      </td><td>Jamieberg                            </td><td>1                                    </td><td>Norway                               </td><td>2016-05-19 14:30:17                  </td><td>0                                    </td></tr>\n",
       "</tbody>\n",
       "</table>\n"
      ],
      "text/latex": [
       "\\begin{tabular}{r|llllllllll}\n",
       " Daily.Time.Spent.on.Site & Age & Area.Income & Daily.Internet.Usage & Ad.Topic.Line & City & Male & Country & Timestamp & Clicked.on.Ad\\\\\n",
       "\\hline\n",
       "\t 68.95                                 & 35                                    & 61833.90                              & 256.09                                & Cloned 5thgeneration orchestration    & Wrightburgh                           & 0                                     & Tunisia                               & 2016-03-27 00:53:11                   & 0                                    \\\\\n",
       "\t 80.23                                 & 31                                    & 68441.85                              & 193.77                                & Monitored national standardization    & West Jodi                             & 1                                     & Nauru                                 & 2016-04-04 01:39:02                   & 0                                    \\\\\n",
       "\t 69.47                                 & 26                                    & 59785.94                              & 236.50                                & Organic bottom-line service-desk      & Davidton                              & 0                                     & San Marino                            & 2016-03-13 20:35:42                   & 0                                    \\\\\n",
       "\t 74.15                                 & 29                                    & 54806.18                              & 245.89                                & Triple-buffered reciprocal time-frame & West Terrifurt                        & 1                                     & Italy                                 & 2016-01-10 02:31:19                   & 0                                    \\\\\n",
       "\t 68.37                                 & 35                                    & 73889.99                              & 225.58                                & Robust logistical utilization         & South Manuel                          & 0                                     & Iceland                               & 2016-06-03 03:36:18                   & 0                                    \\\\\n",
       "\t 59.99                                 & 23                                    & 59761.56                              & 226.74                                & Sharable client-driven software       & Jamieberg                             & 1                                     & Norway                                & 2016-05-19 14:30:17                   & 0                                    \\\\\n",
       "\\end{tabular}\n"
      ],
      "text/markdown": [
       "\n",
       "| Daily.Time.Spent.on.Site | Age | Area.Income | Daily.Internet.Usage | Ad.Topic.Line | City | Male | Country | Timestamp | Clicked.on.Ad |\n",
       "|---|---|---|---|---|---|---|---|---|---|\n",
       "| 68.95                                 | 35                                    | 61833.90                              | 256.09                                | Cloned 5thgeneration orchestration    | Wrightburgh                           | 0                                     | Tunisia                               | 2016-03-27 00:53:11                   | 0                                     |\n",
       "| 80.23                                 | 31                                    | 68441.85                              | 193.77                                | Monitored national standardization    | West Jodi                             | 1                                     | Nauru                                 | 2016-04-04 01:39:02                   | 0                                     |\n",
       "| 69.47                                 | 26                                    | 59785.94                              | 236.50                                | Organic bottom-line service-desk      | Davidton                              | 0                                     | San Marino                            | 2016-03-13 20:35:42                   | 0                                     |\n",
       "| 74.15                                 | 29                                    | 54806.18                              | 245.89                                | Triple-buffered reciprocal time-frame | West Terrifurt                        | 1                                     | Italy                                 | 2016-01-10 02:31:19                   | 0                                     |\n",
       "| 68.37                                 | 35                                    | 73889.99                              | 225.58                                | Robust logistical utilization         | South Manuel                          | 0                                     | Iceland                               | 2016-06-03 03:36:18                   | 0                                     |\n",
       "| 59.99                                 | 23                                    | 59761.56                              | 226.74                                | Sharable client-driven software       | Jamieberg                             | 1                                     | Norway                                | 2016-05-19 14:30:17                   | 0                                     |\n",
       "\n"
      ],
      "text/plain": [
       "  Daily.Time.Spent.on.Site Age Area.Income Daily.Internet.Usage\n",
       "1 68.95                    35  61833.90    256.09              \n",
       "2 80.23                    31  68441.85    193.77              \n",
       "3 69.47                    26  59785.94    236.50              \n",
       "4 74.15                    29  54806.18    245.89              \n",
       "5 68.37                    35  73889.99    225.58              \n",
       "6 59.99                    23  59761.56    226.74              \n",
       "  Ad.Topic.Line                         City           Male Country   \n",
       "1 Cloned 5thgeneration orchestration    Wrightburgh    0    Tunisia   \n",
       "2 Monitored national standardization    West Jodi      1    Nauru     \n",
       "3 Organic bottom-line service-desk      Davidton       0    San Marino\n",
       "4 Triple-buffered reciprocal time-frame West Terrifurt 1    Italy     \n",
       "5 Robust logistical utilization         South Manuel   0    Iceland   \n",
       "6 Sharable client-driven software       Jamieberg      1    Norway    \n",
       "  Timestamp           Clicked.on.Ad\n",
       "1 2016-03-27 00:53:11 0            \n",
       "2 2016-04-04 01:39:02 0            \n",
       "3 2016-03-13 20:35:42 0            \n",
       "4 2016-01-10 02:31:19 0            \n",
       "5 2016-06-03 03:36:18 0            \n",
       "6 2016-05-19 14:30:17 0            "
      ]
     },
     "metadata": {},
     "output_type": "display_data"
    }
   ],
   "source": [
    "#loading the dataset and coverting it into Tibble\n",
    "adv <- read.csv(\"advertising.csv\")\n",
    "\n",
    "head(adv)\n"
   ]
  },
  {
   "cell_type": "code",
   "execution_count": 248,
   "metadata": {},
   "outputs": [
    {
     "data": {
      "text/html": [
       "1000"
      ],
      "text/latex": [
       "1000"
      ],
      "text/markdown": [
       "1000"
      ],
      "text/plain": [
       "[1] 1000"
      ]
     },
     "metadata": {},
     "output_type": "display_data"
    }
   ],
   "source": [
    "#previewing the number of rows in the dataset\n",
    "nrow(adv)"
   ]
  },
  {
   "cell_type": "code",
   "execution_count": 249,
   "metadata": {},
   "outputs": [
    {
     "data": {
      "text/html": [
       "10"
      ],
      "text/latex": [
       "10"
      ],
      "text/markdown": [
       "10"
      ],
      "text/plain": [
       "[1] 10"
      ]
     },
     "metadata": {},
     "output_type": "display_data"
    }
   ],
   "source": [
    "#previewing the number of columns in the dataset\n",
    "ncol(adv)"
   ]
  },
  {
   "cell_type": "code",
   "execution_count": 250,
   "metadata": {},
   "outputs": [
    {
     "data": {
      "text/html": [
       "<ol class=list-inline>\n",
       "\t<li>1000</li>\n",
       "\t<li>10</li>\n",
       "</ol>\n"
      ],
      "text/latex": [
       "\\begin{enumerate*}\n",
       "\\item 1000\n",
       "\\item 10\n",
       "\\end{enumerate*}\n"
      ],
      "text/markdown": [
       "1. 1000\n",
       "2. 10\n",
       "\n",
       "\n"
      ],
      "text/plain": [
       "[1] 1000   10"
      ]
     },
     "metadata": {},
     "output_type": "display_data"
    }
   ],
   "source": [
    "#checking the dataset dimension\n",
    "dim(adv)"
   ]
  },
  {
   "cell_type": "markdown",
   "metadata": {},
   "source": [
    "# Data Cleaning and Exploration"
   ]
  },
  {
   "cell_type": "code",
   "execution_count": 251,
   "metadata": {},
   "outputs": [
    {
     "data": {
      "text/html": [
       "<ol class=list-inline>\n",
       "\t<li>'Daily.Time.Spent.on.Site'</li>\n",
       "\t<li>'Age'</li>\n",
       "\t<li>'Area.Income'</li>\n",
       "\t<li>'Daily.Internet.Usage'</li>\n",
       "\t<li>'Ad.Topic.Line'</li>\n",
       "\t<li>'City'</li>\n",
       "\t<li>'Male'</li>\n",
       "\t<li>'Country'</li>\n",
       "\t<li>'Timestamp'</li>\n",
       "\t<li>'Clicked.on.Ad'</li>\n",
       "</ol>\n"
      ],
      "text/latex": [
       "\\begin{enumerate*}\n",
       "\\item 'Daily.Time.Spent.on.Site'\n",
       "\\item 'Age'\n",
       "\\item 'Area.Income'\n",
       "\\item 'Daily.Internet.Usage'\n",
       "\\item 'Ad.Topic.Line'\n",
       "\\item 'City'\n",
       "\\item 'Male'\n",
       "\\item 'Country'\n",
       "\\item 'Timestamp'\n",
       "\\item 'Clicked.on.Ad'\n",
       "\\end{enumerate*}\n"
      ],
      "text/markdown": [
       "1. 'Daily.Time.Spent.on.Site'\n",
       "2. 'Age'\n",
       "3. 'Area.Income'\n",
       "4. 'Daily.Internet.Usage'\n",
       "5. 'Ad.Topic.Line'\n",
       "6. 'City'\n",
       "7. 'Male'\n",
       "8. 'Country'\n",
       "9. 'Timestamp'\n",
       "10. 'Clicked.on.Ad'\n",
       "\n",
       "\n"
      ],
      "text/plain": [
       " [1] \"Daily.Time.Spent.on.Site\" \"Age\"                     \n",
       " [3] \"Area.Income\"              \"Daily.Internet.Usage\"    \n",
       " [5] \"Ad.Topic.Line\"            \"City\"                    \n",
       " [7] \"Male\"                     \"Country\"                 \n",
       " [9] \"Timestamp\"                \"Clicked.on.Ad\"           "
      ]
     },
     "metadata": {},
     "output_type": "display_data"
    }
   ],
   "source": [
    "#checking the column names\n",
    "colnames(adv)"
   ]
  },
  {
   "cell_type": "code",
   "execution_count": 258,
   "metadata": {},
   "outputs": [],
   "source": [
    "#converting the column names into lower case and stripping the '.' to ensure uniformity\n",
    "\n",
    "colnames(adv) = tolower(str_replace_all(colnames(adv), c('[.]' = '_')))"
   ]
  },
  {
   "cell_type": "code",
   "execution_count": 259,
   "metadata": {},
   "outputs": [
    {
     "data": {
      "text/html": [
       "<ol class=list-inline>\n",
       "\t<li>'daily_time_spent_on_site'</li>\n",
       "\t<li>'age'</li>\n",
       "\t<li>'area_income'</li>\n",
       "\t<li>'daily_internet_usage'</li>\n",
       "\t<li>'ad_topic_line'</li>\n",
       "\t<li>'city'</li>\n",
       "\t<li>'male'</li>\n",
       "\t<li>'country'</li>\n",
       "\t<li>'timestamp'</li>\n",
       "\t<li>'clicked_on_ad'</li>\n",
       "</ol>\n"
      ],
      "text/latex": [
       "\\begin{enumerate*}\n",
       "\\item 'daily\\_time\\_spent\\_on\\_site'\n",
       "\\item 'age'\n",
       "\\item 'area\\_income'\n",
       "\\item 'daily\\_internet\\_usage'\n",
       "\\item 'ad\\_topic\\_line'\n",
       "\\item 'city'\n",
       "\\item 'male'\n",
       "\\item 'country'\n",
       "\\item 'timestamp'\n",
       "\\item 'clicked\\_on\\_ad'\n",
       "\\end{enumerate*}\n"
      ],
      "text/markdown": [
       "1. 'daily_time_spent_on_site'\n",
       "2. 'age'\n",
       "3. 'area_income'\n",
       "4. 'daily_internet_usage'\n",
       "5. 'ad_topic_line'\n",
       "6. 'city'\n",
       "7. 'male'\n",
       "8. 'country'\n",
       "9. 'timestamp'\n",
       "10. 'clicked_on_ad'\n",
       "\n",
       "\n"
      ],
      "text/plain": [
       " [1] \"daily_time_spent_on_site\" \"age\"                     \n",
       " [3] \"area_income\"              \"daily_internet_usage\"    \n",
       " [5] \"ad_topic_line\"            \"city\"                    \n",
       " [7] \"male\"                     \"country\"                 \n",
       " [9] \"timestamp\"                \"clicked_on_ad\"           "
      ]
     },
     "metadata": {},
     "output_type": "display_data"
    }
   ],
   "source": [
    "#checking the column names have been changed\n",
    "colnames(adv)"
   ]
  },
  {
   "cell_type": "code",
   "execution_count": 260,
   "metadata": {},
   "outputs": [
    {
     "name": "stdout",
     "output_type": "stream",
     "text": [
      "Observations: 1,000\n",
      "Variables: 10\n",
      "$ daily_time_spent_on_site <dbl> 68.95, 80.23, 69.47, 74.15, 68.37, 59.99, ...\n",
      "$ age                      <int> 35, 31, 26, 29, 35, 23, 33, 48, 30, 20, 49...\n",
      "$ area_income              <dbl> 61833.90, 68441.85, 59785.94, 54806.18, 73...\n",
      "$ daily_internet_usage     <dbl> 256.09, 193.77, 236.50, 245.89, 225.58, 22...\n",
      "$ ad_topic_line            <fct> Cloned 5thgeneration orchestration, Monito...\n",
      "$ city                     <fct> Wrightburgh, West Jodi, Davidton, West Ter...\n",
      "$ male                     <int> 0, 1, 0, 1, 0, 1, 0, 1, 1, 1, 0, 1, 1, 0, ...\n",
      "$ country                  <fct> Tunisia, Nauru, San Marino, Italy, Iceland...\n",
      "$ timestamp                <fct> 2016-03-27 00:53:11, 2016-04-04 01:39:02, ...\n",
      "$ clicked_on_ad            <int> 0, 0, 0, 0, 0, 0, 0, 1, 0, 0, 1, 0, 1, 0, ...\n"
     ]
    }
   ],
   "source": [
    "# Exploring the variables in the dataset using the glimpse function\n",
    "glimpse(adv)"
   ]
  },
  {
   "cell_type": "code",
   "execution_count": null,
   "metadata": {},
   "outputs": [],
   "source": [
    "# #separating the timestamp variable into date and time columns since the two are together\n",
    "# adv %>% separate(Timestamp, into = paste0(c('Date','time')), sep = ' ')"
   ]
  },
  {
   "cell_type": "code",
   "execution_count": 261,
   "metadata": {},
   "outputs": [],
   "source": [
    "#converting the column timestamp to date data type\n",
    "adv$timestamp <- anytime::anydate(adv$timestamp)"
   ]
  },
  {
   "cell_type": "code",
   "execution_count": 262,
   "metadata": {},
   "outputs": [
    {
     "name": "stdout",
     "output_type": "stream",
     "text": [
      "Observations: 1,000\n",
      "Variables: 10\n",
      "$ daily_time_spent_on_site <dbl> 68.95, 80.23, 69.47, 74.15, 68.37, 59.99, ...\n",
      "$ age                      <int> 35, 31, 26, 29, 35, 23, 33, 48, 30, 20, 49...\n",
      "$ area_income              <dbl> 61833.90, 68441.85, 59785.94, 54806.18, 73...\n",
      "$ daily_internet_usage     <dbl> 256.09, 193.77, 236.50, 245.89, 225.58, 22...\n",
      "$ ad_topic_line            <fct> Cloned 5thgeneration orchestration, Monito...\n",
      "$ city                     <fct> Wrightburgh, West Jodi, Davidton, West Ter...\n",
      "$ male                     <int> 0, 1, 0, 1, 0, 1, 0, 1, 1, 1, 0, 1, 1, 0, ...\n",
      "$ country                  <fct> Tunisia, Nauru, San Marino, Italy, Iceland...\n",
      "$ timestamp                <date> 2016-03-27, 2016-04-04, 2016-03-13, 2016-...\n",
      "$ clicked_on_ad            <int> 0, 0, 0, 0, 0, 0, 0, 1, 0, 0, 1, 0, 1, 0, ...\n"
     ]
    }
   ],
   "source": [
    "#checking to see if the change in data type conversion have been effected\n",
    "glimpse(adv)"
   ]
  },
  {
   "cell_type": "code",
   "execution_count": 263,
   "metadata": {},
   "outputs": [
    {
     "data": {
      "text/html": [
       "<table>\n",
       "<thead><tr><th scope=col>daily_time_spent_on_site</th><th scope=col>age</th><th scope=col>area_income</th><th scope=col>daily_internet_usage</th><th scope=col>ad_topic_line</th><th scope=col>city</th><th scope=col>male</th><th scope=col>country</th><th scope=col>timestamp</th><th scope=col>clicked_on_ad</th></tr></thead>\n",
       "<tbody>\n",
       "\t<tr><td>68.95                                </td><td>35                                   </td><td>61833.90                             </td><td>256.09                               </td><td>Cloned 5thgeneration orchestration   </td><td>Wrightburgh                          </td><td>0                                    </td><td>Tunisia                              </td><td>2016-03-27                           </td><td>0                                    </td></tr>\n",
       "\t<tr><td>80.23                                </td><td>31                                   </td><td>68441.85                             </td><td>193.77                               </td><td>Monitored national standardization   </td><td>West Jodi                            </td><td>1                                    </td><td>Nauru                                </td><td>2016-04-04                           </td><td>0                                    </td></tr>\n",
       "\t<tr><td>69.47                                </td><td>26                                   </td><td>59785.94                             </td><td>236.50                               </td><td>Organic bottom-line service-desk     </td><td>Davidton                             </td><td>0                                    </td><td>San Marino                           </td><td>2016-03-13                           </td><td>0                                    </td></tr>\n",
       "\t<tr><td>74.15                                </td><td>29                                   </td><td>54806.18                             </td><td>245.89                               </td><td>Triple-buffered reciprocal time-frame</td><td>West Terrifurt                       </td><td>1                                    </td><td>Italy                                </td><td>2016-01-10                           </td><td>0                                    </td></tr>\n",
       "\t<tr><td>68.37                                </td><td>35                                   </td><td>73889.99                             </td><td>225.58                               </td><td>Robust logistical utilization        </td><td>South Manuel                         </td><td>0                                    </td><td>Iceland                              </td><td>2016-06-03                           </td><td>0                                    </td></tr>\n",
       "\t<tr><td>59.99                                </td><td>23                                   </td><td>59761.56                             </td><td>226.74                               </td><td>Sharable client-driven software      </td><td>Jamieberg                            </td><td>1                                    </td><td>Norway                               </td><td>2016-05-19                           </td><td>0                                    </td></tr>\n",
       "\t<tr><td>88.91                                </td><td>33                                   </td><td>53852.85                             </td><td>208.36                               </td><td>Enhanced dedicated support           </td><td>Brandonstad                          </td><td>0                                    </td><td>Myanmar                              </td><td>2016-01-28                           </td><td>0                                    </td></tr>\n",
       "\t<tr><td>66.00                                </td><td>48                                   </td><td>24593.33                             </td><td>131.76                               </td><td>Reactive local challenge             </td><td>Port Jefferybury                     </td><td>1                                    </td><td>Australia                            </td><td>2016-03-07                           </td><td>1                                    </td></tr>\n",
       "\t<tr><td>74.53                                </td><td>30                                   </td><td>68862.00                             </td><td>221.51                               </td><td>Configurable coherent function       </td><td>West Colin                           </td><td>1                                    </td><td>Grenada                              </td><td>2016-04-18                           </td><td>0                                    </td></tr>\n",
       "\t<tr><td>69.88                                </td><td>20                                   </td><td>55642.32                             </td><td>183.82                               </td><td>Mandatory homogeneous architecture   </td><td>Ramirezton                           </td><td>1                                    </td><td>Ghana                                </td><td>2016-07-11                           </td><td>0                                    </td></tr>\n",
       "</tbody>\n",
       "</table>\n"
      ],
      "text/latex": [
       "\\begin{tabular}{r|llllllllll}\n",
       " daily\\_time\\_spent\\_on\\_site & age & area\\_income & daily\\_internet\\_usage & ad\\_topic\\_line & city & male & country & timestamp & clicked\\_on\\_ad\\\\\n",
       "\\hline\n",
       "\t 68.95                                 & 35                                    & 61833.90                              & 256.09                                & Cloned 5thgeneration orchestration    & Wrightburgh                           & 0                                     & Tunisia                               & 2016-03-27                            & 0                                    \\\\\n",
       "\t 80.23                                 & 31                                    & 68441.85                              & 193.77                                & Monitored national standardization    & West Jodi                             & 1                                     & Nauru                                 & 2016-04-04                            & 0                                    \\\\\n",
       "\t 69.47                                 & 26                                    & 59785.94                              & 236.50                                & Organic bottom-line service-desk      & Davidton                              & 0                                     & San Marino                            & 2016-03-13                            & 0                                    \\\\\n",
       "\t 74.15                                 & 29                                    & 54806.18                              & 245.89                                & Triple-buffered reciprocal time-frame & West Terrifurt                        & 1                                     & Italy                                 & 2016-01-10                            & 0                                    \\\\\n",
       "\t 68.37                                 & 35                                    & 73889.99                              & 225.58                                & Robust logistical utilization         & South Manuel                          & 0                                     & Iceland                               & 2016-06-03                            & 0                                    \\\\\n",
       "\t 59.99                                 & 23                                    & 59761.56                              & 226.74                                & Sharable client-driven software       & Jamieberg                             & 1                                     & Norway                                & 2016-05-19                            & 0                                    \\\\\n",
       "\t 88.91                                 & 33                                    & 53852.85                              & 208.36                                & Enhanced dedicated support            & Brandonstad                           & 0                                     & Myanmar                               & 2016-01-28                            & 0                                    \\\\\n",
       "\t 66.00                                 & 48                                    & 24593.33                              & 131.76                                & Reactive local challenge              & Port Jefferybury                      & 1                                     & Australia                             & 2016-03-07                            & 1                                    \\\\\n",
       "\t 74.53                                 & 30                                    & 68862.00                              & 221.51                                & Configurable coherent function        & West Colin                            & 1                                     & Grenada                               & 2016-04-18                            & 0                                    \\\\\n",
       "\t 69.88                                 & 20                                    & 55642.32                              & 183.82                                & Mandatory homogeneous architecture    & Ramirezton                            & 1                                     & Ghana                                 & 2016-07-11                            & 0                                    \\\\\n",
       "\\end{tabular}\n"
      ],
      "text/markdown": [
       "\n",
       "| daily_time_spent_on_site | age | area_income | daily_internet_usage | ad_topic_line | city | male | country | timestamp | clicked_on_ad |\n",
       "|---|---|---|---|---|---|---|---|---|---|\n",
       "| 68.95                                 | 35                                    | 61833.90                              | 256.09                                | Cloned 5thgeneration orchestration    | Wrightburgh                           | 0                                     | Tunisia                               | 2016-03-27                            | 0                                     |\n",
       "| 80.23                                 | 31                                    | 68441.85                              | 193.77                                | Monitored national standardization    | West Jodi                             | 1                                     | Nauru                                 | 2016-04-04                            | 0                                     |\n",
       "| 69.47                                 | 26                                    | 59785.94                              | 236.50                                | Organic bottom-line service-desk      | Davidton                              | 0                                     | San Marino                            | 2016-03-13                            | 0                                     |\n",
       "| 74.15                                 | 29                                    | 54806.18                              | 245.89                                | Triple-buffered reciprocal time-frame | West Terrifurt                        | 1                                     | Italy                                 | 2016-01-10                            | 0                                     |\n",
       "| 68.37                                 | 35                                    | 73889.99                              | 225.58                                | Robust logistical utilization         | South Manuel                          | 0                                     | Iceland                               | 2016-06-03                            | 0                                     |\n",
       "| 59.99                                 | 23                                    | 59761.56                              | 226.74                                | Sharable client-driven software       | Jamieberg                             | 1                                     | Norway                                | 2016-05-19                            | 0                                     |\n",
       "| 88.91                                 | 33                                    | 53852.85                              | 208.36                                | Enhanced dedicated support            | Brandonstad                           | 0                                     | Myanmar                               | 2016-01-28                            | 0                                     |\n",
       "| 66.00                                 | 48                                    | 24593.33                              | 131.76                                | Reactive local challenge              | Port Jefferybury                      | 1                                     | Australia                             | 2016-03-07                            | 1                                     |\n",
       "| 74.53                                 | 30                                    | 68862.00                              | 221.51                                | Configurable coherent function        | West Colin                            | 1                                     | Grenada                               | 2016-04-18                            | 0                                     |\n",
       "| 69.88                                 | 20                                    | 55642.32                              | 183.82                                | Mandatory homogeneous architecture    | Ramirezton                            | 1                                     | Ghana                                 | 2016-07-11                            | 0                                     |\n",
       "\n"
      ],
      "text/plain": [
       "   daily_time_spent_on_site age area_income daily_internet_usage\n",
       "1  68.95                    35  61833.90    256.09              \n",
       "2  80.23                    31  68441.85    193.77              \n",
       "3  69.47                    26  59785.94    236.50              \n",
       "4  74.15                    29  54806.18    245.89              \n",
       "5  68.37                    35  73889.99    225.58              \n",
       "6  59.99                    23  59761.56    226.74              \n",
       "7  88.91                    33  53852.85    208.36              \n",
       "8  66.00                    48  24593.33    131.76              \n",
       "9  74.53                    30  68862.00    221.51              \n",
       "10 69.88                    20  55642.32    183.82              \n",
       "   ad_topic_line                         city             male country   \n",
       "1  Cloned 5thgeneration orchestration    Wrightburgh      0    Tunisia   \n",
       "2  Monitored national standardization    West Jodi        1    Nauru     \n",
       "3  Organic bottom-line service-desk      Davidton         0    San Marino\n",
       "4  Triple-buffered reciprocal time-frame West Terrifurt   1    Italy     \n",
       "5  Robust logistical utilization         South Manuel     0    Iceland   \n",
       "6  Sharable client-driven software       Jamieberg        1    Norway    \n",
       "7  Enhanced dedicated support            Brandonstad      0    Myanmar   \n",
       "8  Reactive local challenge              Port Jefferybury 1    Australia \n",
       "9  Configurable coherent function        West Colin       1    Grenada   \n",
       "10 Mandatory homogeneous architecture    Ramirezton       1    Ghana     \n",
       "   timestamp  clicked_on_ad\n",
       "1  2016-03-27 0            \n",
       "2  2016-04-04 0            \n",
       "3  2016-03-13 0            \n",
       "4  2016-01-10 0            \n",
       "5  2016-06-03 0            \n",
       "6  2016-05-19 0            \n",
       "7  2016-01-28 0            \n",
       "8  2016-03-07 1            \n",
       "9  2016-04-18 0            \n",
       "10 2016-07-11 0            "
      ]
     },
     "metadata": {},
     "output_type": "display_data"
    }
   ],
   "source": [
    "head(adv,10)"
   ]
  },
  {
   "cell_type": "code",
   "execution_count": 264,
   "metadata": {},
   "outputs": [
    {
     "data": {
      "text/html": [
       "<dl class=dl-horizontal>\n",
       "\t<dt>daily_time_spent_on_site</dt>\n",
       "\t\t<dd>0</dd>\n",
       "\t<dt>age</dt>\n",
       "\t\t<dd>0</dd>\n",
       "\t<dt>area_income</dt>\n",
       "\t\t<dd>0</dd>\n",
       "\t<dt>daily_internet_usage</dt>\n",
       "\t\t<dd>0</dd>\n",
       "\t<dt>ad_topic_line</dt>\n",
       "\t\t<dd>0</dd>\n",
       "\t<dt>city</dt>\n",
       "\t\t<dd>0</dd>\n",
       "\t<dt>male</dt>\n",
       "\t\t<dd>0</dd>\n",
       "\t<dt>country</dt>\n",
       "\t\t<dd>0</dd>\n",
       "\t<dt>timestamp</dt>\n",
       "\t\t<dd>0</dd>\n",
       "\t<dt>clicked_on_ad</dt>\n",
       "\t\t<dd>0</dd>\n",
       "</dl>\n"
      ],
      "text/latex": [
       "\\begin{description*}\n",
       "\\item[daily\\textbackslash{}\\_time\\textbackslash{}\\_spent\\textbackslash{}\\_on\\textbackslash{}\\_site] 0\n",
       "\\item[age] 0\n",
       "\\item[area\\textbackslash{}\\_income] 0\n",
       "\\item[daily\\textbackslash{}\\_internet\\textbackslash{}\\_usage] 0\n",
       "\\item[ad\\textbackslash{}\\_topic\\textbackslash{}\\_line] 0\n",
       "\\item[city] 0\n",
       "\\item[male] 0\n",
       "\\item[country] 0\n",
       "\\item[timestamp] 0\n",
       "\\item[clicked\\textbackslash{}\\_on\\textbackslash{}\\_ad] 0\n",
       "\\end{description*}\n"
      ],
      "text/markdown": [
       "daily_time_spent_on_site\n",
       ":   0age\n",
       ":   0area_income\n",
       ":   0daily_internet_usage\n",
       ":   0ad_topic_line\n",
       ":   0city\n",
       ":   0male\n",
       ":   0country\n",
       ":   0timestamp\n",
       ":   0clicked_on_ad\n",
       ":   0\n",
       "\n"
      ],
      "text/plain": [
       "daily_time_spent_on_site                      age              area_income \n",
       "                       0                        0                        0 \n",
       "    daily_internet_usage            ad_topic_line                     city \n",
       "                       0                        0                        0 \n",
       "                    male                  country                timestamp \n",
       "                       0                        0                        0 \n",
       "           clicked_on_ad \n",
       "                       0 "
      ]
     },
     "metadata": {},
     "output_type": "display_data"
    }
   ],
   "source": [
    "#checking the number of missing values in each column using the colSums() function\n",
    "colSums(is.na(adv))"
   ]
  },
  {
   "cell_type": "markdown",
   "metadata": {},
   "source": [
    "####### The dataset does not have any missing values."
   ]
  },
  {
   "cell_type": "code",
   "execution_count": 265,
   "metadata": {},
   "outputs": [
    {
     "data": {
      "text/html": [
       "<dl class=dl-horizontal>\n",
       "\t<dt>daily_time_spent_on_site</dt>\n",
       "\t\t<dd>'numeric'</dd>\n",
       "\t<dt>age</dt>\n",
       "\t\t<dd>'integer'</dd>\n",
       "\t<dt>area_income</dt>\n",
       "\t\t<dd>'numeric'</dd>\n",
       "\t<dt>daily_internet_usage</dt>\n",
       "\t\t<dd>'numeric'</dd>\n",
       "\t<dt>ad_topic_line</dt>\n",
       "\t\t<dd>'factor'</dd>\n",
       "\t<dt>city</dt>\n",
       "\t\t<dd>'factor'</dd>\n",
       "\t<dt>male</dt>\n",
       "\t\t<dd>'integer'</dd>\n",
       "\t<dt>country</dt>\n",
       "\t\t<dd>'factor'</dd>\n",
       "\t<dt>timestamp</dt>\n",
       "\t\t<dd>'Date'</dd>\n",
       "\t<dt>clicked_on_ad</dt>\n",
       "\t\t<dd>'integer'</dd>\n",
       "</dl>\n"
      ],
      "text/latex": [
       "\\begin{description*}\n",
       "\\item[daily\\textbackslash{}\\_time\\textbackslash{}\\_spent\\textbackslash{}\\_on\\textbackslash{}\\_site] 'numeric'\n",
       "\\item[age] 'integer'\n",
       "\\item[area\\textbackslash{}\\_income] 'numeric'\n",
       "\\item[daily\\textbackslash{}\\_internet\\textbackslash{}\\_usage] 'numeric'\n",
       "\\item[ad\\textbackslash{}\\_topic\\textbackslash{}\\_line] 'factor'\n",
       "\\item[city] 'factor'\n",
       "\\item[male] 'integer'\n",
       "\\item[country] 'factor'\n",
       "\\item[timestamp] 'Date'\n",
       "\\item[clicked\\textbackslash{}\\_on\\textbackslash{}\\_ad] 'integer'\n",
       "\\end{description*}\n"
      ],
      "text/markdown": [
       "daily_time_spent_on_site\n",
       ":   'numeric'age\n",
       ":   'integer'area_income\n",
       ":   'numeric'daily_internet_usage\n",
       ":   'numeric'ad_topic_line\n",
       ":   'factor'city\n",
       ":   'factor'male\n",
       ":   'integer'country\n",
       ":   'factor'timestamp\n",
       ":   'Date'clicked_on_ad\n",
       ":   'integer'\n",
       "\n"
      ],
      "text/plain": [
       "daily_time_spent_on_site                      age              area_income \n",
       "               \"numeric\"                \"integer\"                \"numeric\" \n",
       "    daily_internet_usage            ad_topic_line                     city \n",
       "               \"numeric\"                 \"factor\"                 \"factor\" \n",
       "                    male                  country                timestamp \n",
       "               \"integer\"                 \"factor\"                   \"Date\" \n",
       "           clicked_on_ad \n",
       "               \"integer\" "
      ]
     },
     "metadata": {},
     "output_type": "display_data"
    }
   ],
   "source": [
    "#Checking the data type of each column \n",
    "\n",
    "sapply(adv, class)"
   ]
  },
  {
   "cell_type": "code",
   "execution_count": 340,
   "metadata": {},
   "outputs": [],
   "source": [
    "# #converting the columns in integer datatype to numeric datatype i.e column 2,7 and 10\n",
    "\n",
    "# cols_to_change = c(2, 7, 10)\n",
    "# for(i in cols_to_change){\n",
    "#    class(adv[, i]) = \"numeric\"\n",
    "# }"
   ]
  },
  {
   "cell_type": "code",
   "execution_count": 345,
   "metadata": {},
   "outputs": [],
   "source": [
    " #converting the columns in integer datatype to numeric datatype i.e column 2,7 and 10\n",
    "adv[, c(2,7,10)] <- sapply(adv[, c(2,7,10)], as.numeric)"
   ]
  },
  {
   "cell_type": "code",
   "execution_count": 344,
   "metadata": {},
   "outputs": [
    {
     "data": {
      "text/html": [
       "<dl class=dl-horizontal>\n",
       "\t<dt>daily_time_spent_on_site</dt>\n",
       "\t\t<dd>'numeric'</dd>\n",
       "\t<dt>age</dt>\n",
       "\t\t<dd>'numeric'</dd>\n",
       "\t<dt>area_income</dt>\n",
       "\t\t<dd>'numeric'</dd>\n",
       "\t<dt>daily_internet_usage</dt>\n",
       "\t\t<dd>'numeric'</dd>\n",
       "\t<dt>ad_topic_line</dt>\n",
       "\t\t<dd>'factor'</dd>\n",
       "\t<dt>city</dt>\n",
       "\t\t<dd>'factor'</dd>\n",
       "\t<dt>male</dt>\n",
       "\t\t<dd>'numeric'</dd>\n",
       "\t<dt>country</dt>\n",
       "\t\t<dd>'factor'</dd>\n",
       "\t<dt>timestamp</dt>\n",
       "\t\t<dd>'Date'</dd>\n",
       "\t<dt>clicked_on_ad</dt>\n",
       "\t\t<dd>'numeric'</dd>\n",
       "</dl>\n"
      ],
      "text/latex": [
       "\\begin{description*}\n",
       "\\item[daily\\textbackslash{}\\_time\\textbackslash{}\\_spent\\textbackslash{}\\_on\\textbackslash{}\\_site] 'numeric'\n",
       "\\item[age] 'numeric'\n",
       "\\item[area\\textbackslash{}\\_income] 'numeric'\n",
       "\\item[daily\\textbackslash{}\\_internet\\textbackslash{}\\_usage] 'numeric'\n",
       "\\item[ad\\textbackslash{}\\_topic\\textbackslash{}\\_line] 'factor'\n",
       "\\item[city] 'factor'\n",
       "\\item[male] 'numeric'\n",
       "\\item[country] 'factor'\n",
       "\\item[timestamp] 'Date'\n",
       "\\item[clicked\\textbackslash{}\\_on\\textbackslash{}\\_ad] 'numeric'\n",
       "\\end{description*}\n"
      ],
      "text/markdown": [
       "daily_time_spent_on_site\n",
       ":   'numeric'age\n",
       ":   'numeric'area_income\n",
       ":   'numeric'daily_internet_usage\n",
       ":   'numeric'ad_topic_line\n",
       ":   'factor'city\n",
       ":   'factor'male\n",
       ":   'numeric'country\n",
       ":   'factor'timestamp\n",
       ":   'Date'clicked_on_ad\n",
       ":   'numeric'\n",
       "\n"
      ],
      "text/plain": [
       "daily_time_spent_on_site                      age              area_income \n",
       "               \"numeric\"                \"numeric\"                \"numeric\" \n",
       "    daily_internet_usage            ad_topic_line                     city \n",
       "               \"numeric\"                 \"factor\"                 \"factor\" \n",
       "                    male                  country                timestamp \n",
       "               \"numeric\"                 \"factor\"                   \"Date\" \n",
       "           clicked_on_ad \n",
       "               \"numeric\" "
      ]
     },
     "metadata": {},
     "output_type": "display_data"
    }
   ],
   "source": [
    "#confirming the changes have been made\n",
    "sapply(adv, class)"
   ]
  },
  {
   "cell_type": "code",
   "execution_count": 346,
   "metadata": {},
   "outputs": [
    {
     "data": {
      "text/html": [
       "<dl class=dl-horizontal>\n",
       "\t<dt>daily_time_spent_on_site</dt>\n",
       "\t\t<dd>900</dd>\n",
       "\t<dt>age</dt>\n",
       "\t\t<dd>43</dd>\n",
       "\t<dt>area_income</dt>\n",
       "\t\t<dd>1000</dd>\n",
       "\t<dt>daily_internet_usage</dt>\n",
       "\t\t<dd>966</dd>\n",
       "\t<dt>ad_topic_line</dt>\n",
       "\t\t<dd>1000</dd>\n",
       "\t<dt>city</dt>\n",
       "\t\t<dd>969</dd>\n",
       "\t<dt>male</dt>\n",
       "\t\t<dd>2</dd>\n",
       "\t<dt>country</dt>\n",
       "\t\t<dd>237</dd>\n",
       "\t<dt>timestamp</dt>\n",
       "\t\t<dd>203</dd>\n",
       "\t<dt>clicked_on_ad</dt>\n",
       "\t\t<dd>2</dd>\n",
       "</dl>\n"
      ],
      "text/latex": [
       "\\begin{description*}\n",
       "\\item[daily\\textbackslash{}\\_time\\textbackslash{}\\_spent\\textbackslash{}\\_on\\textbackslash{}\\_site] 900\n",
       "\\item[age] 43\n",
       "\\item[area\\textbackslash{}\\_income] 1000\n",
       "\\item[daily\\textbackslash{}\\_internet\\textbackslash{}\\_usage] 966\n",
       "\\item[ad\\textbackslash{}\\_topic\\textbackslash{}\\_line] 1000\n",
       "\\item[city] 969\n",
       "\\item[male] 2\n",
       "\\item[country] 237\n",
       "\\item[timestamp] 203\n",
       "\\item[clicked\\textbackslash{}\\_on\\textbackslash{}\\_ad] 2\n",
       "\\end{description*}\n"
      ],
      "text/markdown": [
       "daily_time_spent_on_site\n",
       ":   900age\n",
       ":   43area_income\n",
       ":   1000daily_internet_usage\n",
       ":   966ad_topic_line\n",
       ":   1000city\n",
       ":   969male\n",
       ":   2country\n",
       ":   237timestamp\n",
       ":   203clicked_on_ad\n",
       ":   2\n",
       "\n"
      ],
      "text/plain": [
       "daily_time_spent_on_site                      age              area_income \n",
       "                     900                       43                     1000 \n",
       "    daily_internet_usage            ad_topic_line                     city \n",
       "                     966                     1000                      969 \n",
       "                    male                  country                timestamp \n",
       "                       2                      237                      203 \n",
       "           clicked_on_ad \n",
       "                       2 "
      ]
     },
     "metadata": {},
     "output_type": "display_data"
    }
   ],
   "source": [
    "#checking for the number of unique values in the dataset\n",
    "sapply(adv, function(x) length(unique(x)))"
   ]
  },
  {
   "cell_type": "markdown",
   "metadata": {},
   "source": [
    "####From the output the area income, all values are unique. I shall check below the outliers in the area income column\n"
   ]
  },
  {
   "cell_type": "code",
   "execution_count": 328,
   "metadata": {},
   "outputs": [
    {
     "data": {
      "text/html": [
       "0"
      ],
      "text/latex": [
       "0"
      ],
      "text/markdown": [
       "0"
      ],
      "text/plain": [
       "[1] 0"
      ]
     },
     "metadata": {},
     "output_type": "display_data"
    }
   ],
   "source": [
    "#checking for duplicate values\n",
    "anyDuplicated(adv)"
   ]
  },
  {
   "cell_type": "markdown",
   "metadata": {},
   "source": [
    "There are no duplicate values in the dataset."
   ]
  },
  {
   "cell_type": "markdown",
   "metadata": {},
   "source": [
    "# Data Analysis\n",
    "## Univariate Analysis"
   ]
  },
  {
   "cell_type": "code",
   "execution_count": 347,
   "metadata": {},
   "outputs": [
    {
     "data": {
      "text/plain": [
       " daily_time_spent_on_site      age         area_income    daily_internet_usage\n",
       " Min.   :32.60            Min.   :19.00   Min.   :13996   Min.   :104.8       \n",
       " 1st Qu.:51.36            1st Qu.:29.00   1st Qu.:47032   1st Qu.:138.8       \n",
       " Median :68.22            Median :35.00   Median :57012   Median :183.1       \n",
       " Mean   :65.00            Mean   :36.01   Mean   :55000   Mean   :180.0       \n",
       " 3rd Qu.:78.55            3rd Qu.:42.00   3rd Qu.:65471   3rd Qu.:218.8       \n",
       " Max.   :91.43            Max.   :61.00   Max.   :79485   Max.   :270.0       \n",
       "                                                                              \n",
       "                                 ad_topic_line              city    \n",
       " Adaptive 24hour Graphic Interface      :  1   Lisamouth      :  3  \n",
       " Adaptive asynchronous attitude         :  1   Williamsport   :  3  \n",
       " Adaptive context-sensitive application :  1   Benjaminchester:  2  \n",
       " Adaptive contextually-based methodology:  1   East John      :  2  \n",
       " Adaptive demand-driven knowledgebase   :  1   East Timothy   :  2  \n",
       " Adaptive uniform capability            :  1   Johnstad       :  2  \n",
       " (Other)                                :994   (Other)        :986  \n",
       "      male                 country      timestamp          clicked_on_ad\n",
       " Min.   :0.000   Czech Republic:  9   Min.   :2016-01-01   Min.   :0.0  \n",
       " 1st Qu.:0.000   France        :  9   1st Qu.:2016-02-17   1st Qu.:0.0  \n",
       " Median :0.000   Afghanistan   :  8   Median :2016-04-07   Median :0.5  \n",
       " Mean   :0.481   Australia     :  8   Mean   :2016-04-09   Mean   :0.5  \n",
       " 3rd Qu.:1.000   Cyprus        :  8   3rd Qu.:2016-05-31   3rd Qu.:1.0  \n",
       " Max.   :1.000   Greece        :  8   Max.   :2016-07-24   Max.   :1.0  \n",
       "                 (Other)       :950                                     "
      ]
     },
     "metadata": {},
     "output_type": "display_data"
    }
   ],
   "source": [
    "#statistical summaries of the variables\n",
    "#these show the measures of central tendencies and dispersion\n",
    "summary(adv)"
   ]
  },
  {
   "cell_type": "code",
   "execution_count": 348,
   "metadata": {},
   "outputs": [],
   "source": [
    "install.packages(\"psych\")\n",
    "library(psych)\n"
   ]
  },
  {
   "cell_type": "code",
   "execution_count": 350,
   "metadata": {},
   "outputs": [
    {
     "data": {
      "text/html": [
       "<table>\n",
       "<thead><tr><th></th><th scope=col>vars</th><th scope=col>n</th><th scope=col>mean</th><th scope=col>sd</th><th scope=col>median</th><th scope=col>trimmed</th><th scope=col>mad</th><th scope=col>min</th><th scope=col>max</th><th scope=col>range</th><th scope=col>skew</th><th scope=col>kurtosis</th><th scope=col>se</th></tr></thead>\n",
       "<tbody>\n",
       "\t<tr><th scope=row>daily_time_spent_on_site</th><td> 1          </td><td>1000        </td><td>   65.0002  </td><td>1.585361e+01</td><td>   68.215   </td><td>   65.74090 </td><td>   17.92463 </td><td>   32.60    </td><td>   91.43    </td><td>   58.83    </td><td>-0.370645950</td><td>-1.0998638  </td><td>  0.50133531</td></tr>\n",
       "\t<tr><th scope=row>age</th><td> 2          </td><td>1000        </td><td>   36.0090  </td><td>8.785562e+00</td><td>   35.000   </td><td>   35.50625 </td><td>    8.89560 </td><td>   19.00    </td><td>   61.00    </td><td>   42.00    </td><td> 0.477705222</td><td>-0.4097066  </td><td>  0.27782387</td></tr>\n",
       "\t<tr><th scope=row>area_income</th><td> 3          </td><td>1000        </td><td>55000.0001  </td><td>1.341463e+04</td><td>57012.300   </td><td>56038.93815 </td><td>13316.62424 </td><td>13996.50    </td><td>79484.80    </td><td>65488.30    </td><td>-0.648422850</td><td>-0.1110924  </td><td>424.20797488</td></tr>\n",
       "\t<tr><th scope=row>daily_internet_usage</th><td> 4          </td><td>1000        </td><td>  180.0001  </td><td>4.390234e+01</td><td>  183.130   </td><td>  179.98620 </td><td>   58.61459 </td><td>  104.78    </td><td>  269.96    </td><td>  165.18    </td><td>-0.033436814</td><td>-1.2757525  </td><td>  1.38831387</td></tr>\n",
       "\t<tr><th scope=row>ad_topic_line*</th><td> 5          </td><td>1000        </td><td>  500.5000  </td><td>2.888194e+02</td><td>  500.500   </td><td>  500.50000 </td><td>  370.65000 </td><td>    1.00    </td><td> 1000.00    </td><td>  999.00    </td><td> 0.000000000</td><td>-1.2036006  </td><td>  9.13327251</td></tr>\n",
       "\t<tr><th scope=row>city*</th><td> 6          </td><td>1000        </td><td>  487.3230  </td><td>2.793116e+02</td><td>  485.500   </td><td>  487.51125 </td><td>  356.56530 </td><td>    1.00    </td><td>  969.00    </td><td>  968.00    </td><td>-0.002957293</td><td>-1.1893592  </td><td>  8.83260741</td></tr>\n",
       "\t<tr><th scope=row>male</th><td> 7          </td><td>1000        </td><td>    0.4810  </td><td>4.998889e-01</td><td>    0.000   </td><td>    0.47625 </td><td>    0.00000 </td><td>    0.00    </td><td>    1.00    </td><td>    1.00    </td><td> 0.075940878</td><td>-1.9962262  </td><td>  0.01580787</td></tr>\n",
       "\t<tr><th scope=row>country*</th><td> 8          </td><td>1000        </td><td>  116.4090  </td><td>6.994214e+01</td><td>  114.500   </td><td>  115.81875 </td><td>   89.69730 </td><td>    1.00    </td><td>  237.00    </td><td>  236.00    </td><td> 0.076151967</td><td>-1.2328105  </td><td>  2.21176482</td></tr>\n",
       "\t<tr><th scope=row>timestamp</th><td> 9          </td><td>1000        </td><td>       NaN  </td><td>          NA</td><td>       NA   </td><td>        NaN </td><td>         NA </td><td>     Inf    </td><td>    -Inf    </td><td>    -Inf    </td><td>          NA</td><td>        NA  </td><td>          NA</td></tr>\n",
       "\t<tr><th scope=row>clicked_on_ad</th><td>10          </td><td>1000        </td><td>    0.5000  </td><td>5.002502e-01</td><td>    0.500   </td><td>    0.50000 </td><td>    0.74130 </td><td>    0.00    </td><td>    1.00    </td><td>    1.00    </td><td> 0.000000000</td><td>-2.0019990  </td><td>  0.01581930</td></tr>\n",
       "</tbody>\n",
       "</table>\n"
      ],
      "text/latex": [
       "\\begin{tabular}{r|lllllllllllll}\n",
       "  & vars & n & mean & sd & median & trimmed & mad & min & max & range & skew & kurtosis & se\\\\\n",
       "\\hline\n",
       "\tdaily\\_time\\_spent\\_on\\_site &  1           & 1000         &    65.0002   & 1.585361e+01 &    68.215    &    65.74090  &    17.92463  &    32.60     &    91.43     &    58.83     & -0.370645950 & -1.0998638   &   0.50133531\\\\\n",
       "\tage &  2           & 1000         &    36.0090   & 8.785562e+00 &    35.000    &    35.50625  &     8.89560  &    19.00     &    61.00     &    42.00     &  0.477705222 & -0.4097066   &   0.27782387\\\\\n",
       "\tarea\\_income &  3           & 1000         & 55000.0001   & 1.341463e+04 & 57012.300    & 56038.93815  & 13316.62424  & 13996.50     & 79484.80     & 65488.30     & -0.648422850 & -0.1110924   & 424.20797488\\\\\n",
       "\tdaily\\_internet\\_usage &  4           & 1000         &   180.0001   & 4.390234e+01 &   183.130    &   179.98620  &    58.61459  &   104.78     &   269.96     &   165.18     & -0.033436814 & -1.2757525   &   1.38831387\\\\\n",
       "\tad\\_topic\\_line* &  5           & 1000         &   500.5000   & 2.888194e+02 &   500.500    &   500.50000  &   370.65000  &     1.00     &  1000.00     &   999.00     &  0.000000000 & -1.2036006   &   9.13327251\\\\\n",
       "\tcity* &  6           & 1000         &   487.3230   & 2.793116e+02 &   485.500    &   487.51125  &   356.56530  &     1.00     &   969.00     &   968.00     & -0.002957293 & -1.1893592   &   8.83260741\\\\\n",
       "\tmale &  7           & 1000         &     0.4810   & 4.998889e-01 &     0.000    &     0.47625  &     0.00000  &     0.00     &     1.00     &     1.00     &  0.075940878 & -1.9962262   &   0.01580787\\\\\n",
       "\tcountry* &  8           & 1000         &   116.4090   & 6.994214e+01 &   114.500    &   115.81875  &    89.69730  &     1.00     &   237.00     &   236.00     &  0.076151967 & -1.2328105   &   2.21176482\\\\\n",
       "\ttimestamp &  9           & 1000         &        NaN   &           NA &        NA    &         NaN  &          NA  &      Inf     &     -Inf     &     -Inf     &           NA &         NA   &           NA\\\\\n",
       "\tclicked\\_on\\_ad & 10           & 1000         &     0.5000   & 5.002502e-01 &     0.500    &     0.50000  &     0.74130  &     0.00     &     1.00     &     1.00     &  0.000000000 & -2.0019990   &   0.01581930\\\\\n",
       "\\end{tabular}\n"
      ],
      "text/markdown": [
       "\n",
       "| <!--/--> | vars | n | mean | sd | median | trimmed | mad | min | max | range | skew | kurtosis | se |\n",
       "|---|---|---|---|---|---|---|---|---|---|---|---|---|---|\n",
       "| daily_time_spent_on_site |  1           | 1000         |    65.0002   | 1.585361e+01 |    68.215    |    65.74090  |    17.92463  |    32.60     |    91.43     |    58.83     | -0.370645950 | -1.0998638   |   0.50133531 |\n",
       "| age |  2           | 1000         |    36.0090   | 8.785562e+00 |    35.000    |    35.50625  |     8.89560  |    19.00     |    61.00     |    42.00     |  0.477705222 | -0.4097066   |   0.27782387 |\n",
       "| area_income |  3           | 1000         | 55000.0001   | 1.341463e+04 | 57012.300    | 56038.93815  | 13316.62424  | 13996.50     | 79484.80     | 65488.30     | -0.648422850 | -0.1110924   | 424.20797488 |\n",
       "| daily_internet_usage |  4           | 1000         |   180.0001   | 4.390234e+01 |   183.130    |   179.98620  |    58.61459  |   104.78     |   269.96     |   165.18     | -0.033436814 | -1.2757525   |   1.38831387 |\n",
       "| ad_topic_line* |  5           | 1000         |   500.5000   | 2.888194e+02 |   500.500    |   500.50000  |   370.65000  |     1.00     |  1000.00     |   999.00     |  0.000000000 | -1.2036006   |   9.13327251 |\n",
       "| city* |  6           | 1000         |   487.3230   | 2.793116e+02 |   485.500    |   487.51125  |   356.56530  |     1.00     |   969.00     |   968.00     | -0.002957293 | -1.1893592   |   8.83260741 |\n",
       "| male |  7           | 1000         |     0.4810   | 4.998889e-01 |     0.000    |     0.47625  |     0.00000  |     0.00     |     1.00     |     1.00     |  0.075940878 | -1.9962262   |   0.01580787 |\n",
       "| country* |  8           | 1000         |   116.4090   | 6.994214e+01 |   114.500    |   115.81875  |    89.69730  |     1.00     |   237.00     |   236.00     |  0.076151967 | -1.2328105   |   2.21176482 |\n",
       "| timestamp |  9           | 1000         |        NaN   |           NA |        NA    |         NaN  |          NA  |      Inf     |     -Inf     |     -Inf     |           NA |         NA   |           NA |\n",
       "| clicked_on_ad | 10           | 1000         |     0.5000   | 5.002502e-01 |     0.500    |     0.50000  |     0.74130  |     0.00     |     1.00     |     1.00     |  0.000000000 | -2.0019990   |   0.01581930 |\n",
       "\n"
      ],
      "text/plain": [
       "                         vars n    mean       sd           median   \n",
       "daily_time_spent_on_site  1   1000    65.0002 1.585361e+01    68.215\n",
       "age                       2   1000    36.0090 8.785562e+00    35.000\n",
       "area_income               3   1000 55000.0001 1.341463e+04 57012.300\n",
       "daily_internet_usage      4   1000   180.0001 4.390234e+01   183.130\n",
       "ad_topic_line*            5   1000   500.5000 2.888194e+02   500.500\n",
       "city*                     6   1000   487.3230 2.793116e+02   485.500\n",
       "male                      7   1000     0.4810 4.998889e-01     0.000\n",
       "country*                  8   1000   116.4090 6.994214e+01   114.500\n",
       "timestamp                 9   1000        NaN           NA        NA\n",
       "clicked_on_ad            10   1000     0.5000 5.002502e-01     0.500\n",
       "                         trimmed     mad         min      max      range   \n",
       "daily_time_spent_on_site    65.74090    17.92463    32.60    91.43    58.83\n",
       "age                         35.50625     8.89560    19.00    61.00    42.00\n",
       "area_income              56038.93815 13316.62424 13996.50 79484.80 65488.30\n",
       "daily_internet_usage       179.98620    58.61459   104.78   269.96   165.18\n",
       "ad_topic_line*             500.50000   370.65000     1.00  1000.00   999.00\n",
       "city*                      487.51125   356.56530     1.00   969.00   968.00\n",
       "male                         0.47625     0.00000     0.00     1.00     1.00\n",
       "country*                   115.81875    89.69730     1.00   237.00   236.00\n",
       "timestamp                        NaN          NA      Inf     -Inf     -Inf\n",
       "clicked_on_ad                0.50000     0.74130     0.00     1.00     1.00\n",
       "                         skew         kurtosis   se          \n",
       "daily_time_spent_on_site -0.370645950 -1.0998638   0.50133531\n",
       "age                       0.477705222 -0.4097066   0.27782387\n",
       "area_income              -0.648422850 -0.1110924 424.20797488\n",
       "daily_internet_usage     -0.033436814 -1.2757525   1.38831387\n",
       "ad_topic_line*            0.000000000 -1.2036006   9.13327251\n",
       "city*                    -0.002957293 -1.1893592   8.83260741\n",
       "male                      0.075940878 -1.9962262   0.01580787\n",
       "country*                  0.076151967 -1.2328105   2.21176482\n",
       "timestamp                          NA         NA           NA\n",
       "clicked_on_ad             0.000000000 -2.0019990   0.01581930"
      ]
     },
     "metadata": {},
     "output_type": "display_data"
    }
   ],
   "source": [
    "#measures of central tendencies and dispersion\n",
    "describe(adv)"
   ]
  },
  {
   "cell_type": "code",
   "execution_count": 396,
   "metadata": {},
   "outputs": [
    {
     "data": {
      "image/png": "[encoded data removed]",
      "text/plain": [
       "Plot with title \"daily_time_spent_on_site\""
      ]
     },
     "metadata": {},
     "output_type": "display_data"
    },
    {
     "data": {
      "image/png": "[encoded data removed]",
      "text/plain": [
       "Plot with title \"age\""
      ]
     },
     "metadata": {},
     "output_type": "display_data"
    },
    {
     "data": {
      "image/png": "[encoded data removed]",
      "text/plain": [
       "Plot with title \"area_income\""
      ]
     },
     "metadata": {},
     "output_type": "display_data"
    },
    {
     "data": {
      "image/png": "[encoded data removed]",
      "text/plain": [
       "Plot with title \"male\""
      ]
     },
     "metadata": {},
     "output_type": "display_data"
    },
    {
     "data": {
      "image/png": "[encoded data removed]",
      "text/plain": [
       "Plot with title \"clicked_on_ad\""
      ]
     },
     "metadata": {},
     "output_type": "display_data"
    }
   ],
   "source": [
    "#checking the dataset for any outliers\n",
    "options(repr.plot.width = 5, repr.plot.height = 4)\n",
    "numeric_cols = c(1,2,3,7,10)\n",
    "for(i in numeric_cols){\n",
    "    boxplot(adv[i], main =colnames(adv)[i])\n",
    "\n",
    "}"
   ]
  },
  {
   "cell_type": "markdown",
   "metadata": {},
   "source": [
    "The column area income which is the 3rd column, has presence of outliers. Before doing anything with them let me look at the unique values in that column then.\n",
    "\n",
    "The rest of the numeric columns do not show any presence of outliers.\n"
   ]
  },
  {
   "cell_type": "code",
   "execution_count": 294,
   "metadata": {},
   "outputs": [
    {
     "data": {
      "text/html": [
       "'data.frame'"
      ],
      "text/latex": [
       "'data.frame'"
      ],
      "text/markdown": [
       "'data.frame'"
      ],
      "text/plain": [
       "[1] \"data.frame\""
      ]
     },
     "metadata": {},
     "output_type": "display_data"
    }
   ],
   "source": [
    "#examining the dataset belongs to what class\n",
    "class(adv)"
   ]
  },
  {
   "cell_type": "code",
   "execution_count": 308,
   "metadata": {},
   "outputs": [
    {
     "data": {
      "text/html": [
       "<ol class=list-inline>\n",
       "\t<li>17709.98</li>\n",
       "\t<li>18819.34</li>\n",
       "\t<li>15598.29</li>\n",
       "\t<li>15879.1</li>\n",
       "\t<li>14548.06</li>\n",
       "\t<li>13996.5</li>\n",
       "\t<li>14775.5</li>\n",
       "\t<li>18368.57</li>\n",
       "</ol>\n"
      ],
      "text/latex": [
       "\\begin{enumerate*}\n",
       "\\item 17709.98\n",
       "\\item 18819.34\n",
       "\\item 15598.29\n",
       "\\item 15879.1\n",
       "\\item 14548.06\n",
       "\\item 13996.5\n",
       "\\item 14775.5\n",
       "\\item 18368.57\n",
       "\\end{enumerate*}\n"
      ],
      "text/markdown": [
       "1. 17709.98\n",
       "2. 18819.34\n",
       "3. 15598.29\n",
       "4. 15879.1\n",
       "5. 14548.06\n",
       "6. 13996.5\n",
       "7. 14775.5\n",
       "8. 18368.57\n",
       "\n",
       "\n"
      ],
      "text/plain": [
       "[1] 17709.98 18819.34 15598.29 15879.10 14548.06 13996.50 14775.50 18368.57"
      ]
     },
     "metadata": {},
     "output_type": "display_data"
    }
   ],
   "source": [
    "#checking the list of outliers in the area-income variable\n",
    "boxplot.stats(adv$area_income)$out"
   ]
  },
  {
   "cell_type": "markdown",
   "metadata": {},
   "source": [
    "The outliers list in the area income variable are not alot and I opt to work with them as is as they may provide insights in the analysis"
   ]
  },
  {
   "cell_type": "code",
   "execution_count": 360,
   "metadata": {},
   "outputs": [
    {
     "data": {
      "image/png": "[encoded data removed]",
      "text/plain": [
       "Plot with title \"Age Distribution\""
      ]
     },
     "metadata": {},
     "output_type": "display_data"
    }
   ],
   "source": [
    "#plotting the distribution of the age variable\n",
    "hist(adv$age, col = 'blue',\n",
    "    main = 'Age Distribution',\n",
    "    xlab = 'Age',\n",
    "    ylab = 'Frequency')\n"
   ]
  },
  {
   "cell_type": "markdown",
   "metadata": {},
   "source": [
    "Most of the people who click adds fall in the age between 25 and 40\n",
    "\n",
    "The data is also skewed to the right"
   ]
  },
  {
   "cell_type": "code",
   "execution_count": 437,
   "metadata": {},
   "outputs": [
    {
     "data": {
      "image/png": "[encoded data removed]",
      "text/plain": [
       "Plot with title \"Age Distribution\""
      ]
     },
     "metadata": {},
     "output_type": "display_data"
    }
   ],
   "source": [
    "#plotting the distribution of the age variable\n",
    "hist(adv$daily_time_spent_on_site, col = 'blue',\n",
    "    main = 'Age Distribution',\n",
    "    xlab = 'Age',\n",
    "    ylab = 'Frequency')\n",
    "curve(dnorm(x, mean=mean(adv$daily_time_spent_on_site), sd=sd(adv$daily_time_spent_on_site)), add=TRUE, col=\"red\") #line"
   ]
  },
  {
   "cell_type": "code",
   "execution_count": 438,
   "metadata": {},
   "outputs": [
    {
     "data": {
      "image/png": "[encoded data removed]",
      "text/plain": [
       "Plot with title \"\""
      ]
     },
     "metadata": {},
     "output_type": "display_data"
    },
    {
     "data": {
      "image/png": "[encoded data removed]",
      "text/plain": [
       "Plot with title \"\""
      ]
     },
     "metadata": {},
     "output_type": "display_data"
    },
    {
     "data": {
      "image/png": "[encoded data removed]",
      "text/plain": [
       "Plot with title \"\""
      ]
     },
     "metadata": {},
     "output_type": "display_data"
    },
    {
     "data": {
      "image/png": "[encoded data removed]",
      "text/plain": [
       "Plot with title \"\""
      ]
     },
     "metadata": {},
     "output_type": "display_data"
    },
    {
     "data": {
      "image/png": "[encoded data removed]",
      "text/plain": [
       "plot without title"
      ]
     },
     "metadata": {},
     "output_type": "display_data"
    }
   ],
   "source": [
    "numeric_cols = colnames(select(adv, c(1,2,3,7,10)))\n",
    "for(i in 1:5)\n",
    "{\n",
    "    hist(adv[i], main =colnames(adv)[i], breaks = 20)\n",
    "         \n",
    "#             col = c(\"blue\", \"red\", \"gray\", \"green\")) \n",
    "}"
   ]
  },
  {
   "cell_type": "code",
   "execution_count": 412,
   "metadata": {},
   "outputs": [
    {
     "data": {
      "text/html": [
       "<table>\n",
       "<thead><tr><th scope=col>daily_time_spent_on_site</th><th scope=col>age</th><th scope=col>area_income</th><th scope=col>daily_internet_usage</th><th scope=col>ad_topic_line</th><th scope=col>city</th><th scope=col>male</th><th scope=col>country</th><th scope=col>timestamp</th><th scope=col>clicked_on_ad</th></tr></thead>\n",
       "<tbody>\n",
       "\t<tr><td>68.95                             </td><td>35                                </td><td>61833.90                          </td><td>256.09                            </td><td>Cloned 5thgeneration orchestration</td><td>Wrightburgh                       </td><td>0                                 </td><td>Tunisia                           </td><td>2016-03-27                        </td><td>0                                 </td></tr>\n",
       "\t<tr><td>80.23                             </td><td>31                                </td><td>68441.85                          </td><td>193.77                            </td><td>Monitored national standardization</td><td>West Jodi                         </td><td>1                                 </td><td>Nauru                             </td><td>2016-04-04                        </td><td>0                                 </td></tr>\n",
       "</tbody>\n",
       "</table>\n"
      ],
      "text/latex": [
       "\\begin{tabular}{r|llllllllll}\n",
       " daily\\_time\\_spent\\_on\\_site & age & area\\_income & daily\\_internet\\_usage & ad\\_topic\\_line & city & male & country & timestamp & clicked\\_on\\_ad\\\\\n",
       "\\hline\n",
       "\t 68.95                              & 35                                 & 61833.90                           & 256.09                             & Cloned 5thgeneration orchestration & Wrightburgh                        & 0                                  & Tunisia                            & 2016-03-27                         & 0                                 \\\\\n",
       "\t 80.23                              & 31                                 & 68441.85                           & 193.77                             & Monitored national standardization & West Jodi                          & 1                                  & Nauru                              & 2016-04-04                         & 0                                 \\\\\n",
       "\\end{tabular}\n"
      ],
      "text/markdown": [
       "\n",
       "| daily_time_spent_on_site | age | area_income | daily_internet_usage | ad_topic_line | city | male | country | timestamp | clicked_on_ad |\n",
       "|---|---|---|---|---|---|---|---|---|---|\n",
       "| 68.95                              | 35                                 | 61833.90                           | 256.09                             | Cloned 5thgeneration orchestration | Wrightburgh                        | 0                                  | Tunisia                            | 2016-03-27                         | 0                                  |\n",
       "| 80.23                              | 31                                 | 68441.85                           | 193.77                             | Monitored national standardization | West Jodi                          | 1                                  | Nauru                              | 2016-04-04                         | 0                                  |\n",
       "\n"
      ],
      "text/plain": [
       "  daily_time_spent_on_site age area_income daily_internet_usage\n",
       "1 68.95                    35  61833.90    256.09              \n",
       "2 80.23                    31  68441.85    193.77              \n",
       "  ad_topic_line                      city        male country timestamp \n",
       "1 Cloned 5thgeneration orchestration Wrightburgh 0    Tunisia 2016-03-27\n",
       "2 Monitored national standardization West Jodi   1    Nauru   2016-04-04\n",
       "  clicked_on_ad\n",
       "1 0            \n",
       "2 0            "
      ]
     },
     "metadata": {},
     "output_type": "display_data"
    }
   ],
   "source": [
    "head(adv,2)"
   ]
  },
  {
   "cell_type": "code",
   "execution_count": 423,
   "metadata": {},
   "outputs": [
    {
     "data": {
      "image/png": "[encoded data removed]",
      "text/plain": [
       "Plot with title \"\""
      ]
     },
     "metadata": {},
     "output_type": "display_data"
    },
    {
     "data": {
      "image/png": "[encoded data removed]",
      "text/plain": [
       "Plot with title \"\""
      ]
     },
     "metadata": {},
     "output_type": "display_data"
    },
    {
     "data": {
      "image/png": "[encoded data removed]",
      "text/plain": [
       "Plot with title \"\""
      ]
     },
     "metadata": {},
     "output_type": "display_data"
    },
    {
     "data": {
      "image/png": "[encoded data removed]",
      "text/plain": [
       "Plot with title \"\""
      ]
     },
     "metadata": {},
     "output_type": "display_data"
    }
   ],
   "source": [
    "num_cols = c('daily_time_spent_on_site', 'age', 'area_income', 'daily_internet_usage')\n",
    "df = select(adv, num_cols)\n",
    "\n",
    "colors = c( \"red\", \"green\", \"blue\" , 'magenta')\n",
    "                          \n",
    "for(i in 1:4){\n",
    "    hist(df[i], col = colors[i])\n",
    "}"
   ]
  },
  {
   "cell_type": "code",
   "execution_count": 422,
   "metadata": {},
   "outputs": [
    {
     "data": {
      "text/html": [
       "<table>\n",
       "<thead><tr><th scope=col>daily_time_spent_on_site</th></tr></thead>\n",
       "<tbody>\n",
       "\t<tr><td>68.95</td></tr>\n",
       "\t<tr><td>80.23</td></tr>\n",
       "\t<tr><td>69.47</td></tr>\n",
       "\t<tr><td>74.15</td></tr>\n",
       "\t<tr><td>68.37</td></tr>\n",
       "\t<tr><td>59.99</td></tr>\n",
       "\t<tr><td>88.91</td></tr>\n",
       "\t<tr><td>66.00</td></tr>\n",
       "\t<tr><td>74.53</td></tr>\n",
       "\t<tr><td>69.88</td></tr>\n",
       "\t<tr><td>47.64</td></tr>\n",
       "\t<tr><td>83.07</td></tr>\n",
       "\t<tr><td>69.57</td></tr>\n",
       "\t<tr><td>79.52</td></tr>\n",
       "\t<tr><td>42.95</td></tr>\n",
       "\t<tr><td>63.45</td></tr>\n",
       "\t<tr><td>55.39</td></tr>\n",
       "\t<tr><td>82.03</td></tr>\n",
       "\t<tr><td>54.70</td></tr>\n",
       "\t<tr><td>74.58</td></tr>\n",
       "\t<tr><td>77.22</td></tr>\n",
       "\t<tr><td>84.59</td></tr>\n",
       "\t<tr><td>41.49</td></tr>\n",
       "\t<tr><td>87.29</td></tr>\n",
       "\t<tr><td>41.39</td></tr>\n",
       "\t<tr><td>78.74</td></tr>\n",
       "\t<tr><td>48.53</td></tr>\n",
       "\t<tr><td>51.95</td></tr>\n",
       "\t<tr><td>70.20</td></tr>\n",
       "\t<tr><td>76.02</td></tr>\n",
       "\t<tr><td>...</td></tr>\n",
       "\t<tr><td>40.18</td></tr>\n",
       "\t<tr><td>45.17</td></tr>\n",
       "\t<tr><td>50.48</td></tr>\n",
       "\t<tr><td>80.87</td></tr>\n",
       "\t<tr><td>41.88</td></tr>\n",
       "\t<tr><td>39.87</td></tr>\n",
       "\t<tr><td>61.84</td></tr>\n",
       "\t<tr><td>54.97</td></tr>\n",
       "\t<tr><td>71.40</td></tr>\n",
       "\t<tr><td>70.29</td></tr>\n",
       "\t<tr><td>67.26</td></tr>\n",
       "\t<tr><td>76.58</td></tr>\n",
       "\t<tr><td>54.37</td></tr>\n",
       "\t<tr><td>82.79</td></tr>\n",
       "\t<tr><td>66.47</td></tr>\n",
       "\t<tr><td>72.88</td></tr>\n",
       "\t<tr><td>76.44</td></tr>\n",
       "\t<tr><td>63.37</td></tr>\n",
       "\t<tr><td>89.71</td></tr>\n",
       "\t<tr><td>70.96</td></tr>\n",
       "\t<tr><td>35.79</td></tr>\n",
       "\t<tr><td>38.96</td></tr>\n",
       "\t<tr><td>69.17</td></tr>\n",
       "\t<tr><td>64.20</td></tr>\n",
       "\t<tr><td>43.70</td></tr>\n",
       "\t<tr><td>72.97</td></tr>\n",
       "\t<tr><td>51.30</td></tr>\n",
       "\t<tr><td>51.63</td></tr>\n",
       "\t<tr><td>55.55</td></tr>\n",
       "\t<tr><td>45.01</td></tr>\n",
       "</tbody>\n",
       "</table>\n"
      ],
      "text/latex": [
       "\\begin{tabular}{r|l}\n",
       " daily\\_time\\_spent\\_on\\_site\\\\\n",
       "\\hline\n",
       "\t 68.95\\\\\n",
       "\t 80.23\\\\\n",
       "\t 69.47\\\\\n",
       "\t 74.15\\\\\n",
       "\t 68.37\\\\\n",
       "\t 59.99\\\\\n",
       "\t 88.91\\\\\n",
       "\t 66.00\\\\\n",
       "\t 74.53\\\\\n",
       "\t 69.88\\\\\n",
       "\t 47.64\\\\\n",
       "\t 83.07\\\\\n",
       "\t 69.57\\\\\n",
       "\t 79.52\\\\\n",
       "\t 42.95\\\\\n",
       "\t 63.45\\\\\n",
       "\t 55.39\\\\\n",
       "\t 82.03\\\\\n",
       "\t 54.70\\\\\n",
       "\t 74.58\\\\\n",
       "\t 77.22\\\\\n",
       "\t 84.59\\\\\n",
       "\t 41.49\\\\\n",
       "\t 87.29\\\\\n",
       "\t 41.39\\\\\n",
       "\t 78.74\\\\\n",
       "\t 48.53\\\\\n",
       "\t 51.95\\\\\n",
       "\t 70.20\\\\\n",
       "\t 76.02\\\\\n",
       "\t ...\\\\\n",
       "\t 40.18\\\\\n",
       "\t 45.17\\\\\n",
       "\t 50.48\\\\\n",
       "\t 80.87\\\\\n",
       "\t 41.88\\\\\n",
       "\t 39.87\\\\\n",
       "\t 61.84\\\\\n",
       "\t 54.97\\\\\n",
       "\t 71.40\\\\\n",
       "\t 70.29\\\\\n",
       "\t 67.26\\\\\n",
       "\t 76.58\\\\\n",
       "\t 54.37\\\\\n",
       "\t 82.79\\\\\n",
       "\t 66.47\\\\\n",
       "\t 72.88\\\\\n",
       "\t 76.44\\\\\n",
       "\t 63.37\\\\\n",
       "\t 89.71\\\\\n",
       "\t 70.96\\\\\n",
       "\t 35.79\\\\\n",
       "\t 38.96\\\\\n",
       "\t 69.17\\\\\n",
       "\t 64.20\\\\\n",
       "\t 43.70\\\\\n",
       "\t 72.97\\\\\n",
       "\t 51.30\\\\\n",
       "\t 51.63\\\\\n",
       "\t 55.55\\\\\n",
       "\t 45.01\\\\\n",
       "\\end{tabular}\n"
      ],
      "text/markdown": [
       "\n",
       "| daily_time_spent_on_site |\n",
       "|---|\n",
       "| 68.95 |\n",
       "| 80.23 |\n",
       "| 69.47 |\n",
       "| 74.15 |\n",
       "| 68.37 |\n",
       "| 59.99 |\n",
       "| 88.91 |\n",
       "| 66.00 |\n",
       "| 74.53 |\n",
       "| 69.88 |\n",
       "| 47.64 |\n",
       "| 83.07 |\n",
       "| 69.57 |\n",
       "| 79.52 |\n",
       "| 42.95 |\n",
       "| 63.45 |\n",
       "| 55.39 |\n",
       "| 82.03 |\n",
       "| 54.70 |\n",
       "| 74.58 |\n",
       "| 77.22 |\n",
       "| 84.59 |\n",
       "| 41.49 |\n",
       "| 87.29 |\n",
       "| 41.39 |\n",
       "| 78.74 |\n",
       "| 48.53 |\n",
       "| 51.95 |\n",
       "| 70.20 |\n",
       "| 76.02 |\n",
       "| ... |\n",
       "| 40.18 |\n",
       "| 45.17 |\n",
       "| 50.48 |\n",
       "| 80.87 |\n",
       "| 41.88 |\n",
       "| 39.87 |\n",
       "| 61.84 |\n",
       "| 54.97 |\n",
       "| 71.40 |\n",
       "| 70.29 |\n",
       "| 67.26 |\n",
       "| 76.58 |\n",
       "| 54.37 |\n",
       "| 82.79 |\n",
       "| 66.47 |\n",
       "| 72.88 |\n",
       "| 76.44 |\n",
       "| 63.37 |\n",
       "| 89.71 |\n",
       "| 70.96 |\n",
       "| 35.79 |\n",
       "| 38.96 |\n",
       "| 69.17 |\n",
       "| 64.20 |\n",
       "| 43.70 |\n",
       "| 72.97 |\n",
       "| 51.30 |\n",
       "| 51.63 |\n",
       "| 55.55 |\n",
       "| 45.01 |\n",
       "\n"
      ],
      "text/plain": [
       "     daily_time_spent_on_site\n",
       "1    68.95                   \n",
       "2    80.23                   \n",
       "3    69.47                   \n",
       "4    74.15                   \n",
       "5    68.37                   \n",
       "6    59.99                   \n",
       "7    88.91                   \n",
       "8    66.00                   \n",
       "9    74.53                   \n",
       "10   69.88                   \n",
       "11   47.64                   \n",
       "12   83.07                   \n",
       "13   69.57                   \n",
       "14   79.52                   \n",
       "15   42.95                   \n",
       "16   63.45                   \n",
       "17   55.39                   \n",
       "18   82.03                   \n",
       "19   54.70                   \n",
       "20   74.58                   \n",
       "21   77.22                   \n",
       "22   84.59                   \n",
       "23   41.49                   \n",
       "24   87.29                   \n",
       "25   41.39                   \n",
       "26   78.74                   \n",
       "27   48.53                   \n",
       "28   51.95                   \n",
       "29   70.20                   \n",
       "30   76.02                   \n",
       "...  ...                     \n",
       "971  40.18                   \n",
       "972  45.17                   \n",
       "973  50.48                   \n",
       "974  80.87                   \n",
       "975  41.88                   \n",
       "976  39.87                   \n",
       "977  61.84                   \n",
       "978  54.97                   \n",
       "979  71.40                   \n",
       "980  70.29                   \n",
       "981  67.26                   \n",
       "982  76.58                   \n",
       "983  54.37                   \n",
       "984  82.79                   \n",
       "985  66.47                   \n",
       "986  72.88                   \n",
       "987  76.44                   \n",
       "988  63.37                   \n",
       "989  89.71                   \n",
       "990  70.96                   \n",
       "991  35.79                   \n",
       "992  38.96                   \n",
       "993  69.17                   \n",
       "994  64.20                   \n",
       "995  43.70                   \n",
       "996  72.97                   \n",
       "997  51.30                   \n",
       "998  51.63                   \n",
       "999  55.55                   \n",
       "1000 45.01                   "
      ]
     },
     "metadata": {},
     "output_type": "display_data"
    }
   ],
   "source": [
    "df[1]"
   ]
  },
  {
   "cell_type": "code",
   "execution_count": null,
   "metadata": {},
   "outputs": [],
   "source": []
  }
 ],
 "metadata": {
  "kernelspec": {
   "display_name": "R",
   "language": "R",
   "name": "ir"
  },
  "language_info": {
   "codemirror_mode": "r",
   "file_extension": ".r",
   "mimetype": "text/x-r-source",
   "name": "R",
   "pygments_lexer": "r",
   "version": "3.6.1"
  }
 },
 "nbformat": 4,
 "nbformat_minor": 2
}
