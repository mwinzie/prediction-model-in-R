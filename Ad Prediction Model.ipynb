{
 "cells": [
  {
   "cell_type": "markdown",
   "metadata": {},
   "source": [
    "# Problem Statement\n",
    "\n",
    "A Kenyan entrepreneur has created an online cryptography course and would want to advertise it on her blog. She currently targets audiences originating from various countries. In the past, she ran ads to advertise a related course on the same blog and collected data in the process. The project below presents a solution that would allow her to determine whether ads targeted to audiences of certain characteristics i.e. city, male country, ad topic, etc. would click on her ads. \n",
    "\n",
    "The solution involves creating a prediction model that will accurately predict whether a user will click an Ad.\n"
   ]
  },
  {
   "cell_type": "markdown",
   "metadata": {},
   "source": [
    "# Metrics of Success"
   ]
  },
  {
   "cell_type": "markdown",
   "metadata": {},
   "source": [
    "# Experimental Design"
   ]
  },
  {
   "cell_type": "markdown",
   "metadata": {},
   "source": [
    "# Loading the Dataset"
   ]
  },
  {
   "cell_type": "code",
   "execution_count": 3,
   "metadata": {},
   "outputs": [
    {
     "data": {
      "text/html": [
       "<table>\n",
       "<thead><tr><th scope=col>Daily.Time.Spent.on.Site</th><th scope=col>Age</th><th scope=col>Area.Income</th><th scope=col>Daily.Internet.Usage</th><th scope=col>Ad.Topic.Line</th><th scope=col>City</th><th scope=col>Male</th><th scope=col>Country</th><th scope=col>Timestamp</th><th scope=col>Clicked.on.Ad</th></tr></thead>\n",
       "<tbody>\n",
       "\t<tr><td>68.95                                </td><td>35                                   </td><td>61833.90                             </td><td>256.09                               </td><td>Cloned 5thgeneration orchestration   </td><td>Wrightburgh                          </td><td>0                                    </td><td>Tunisia                              </td><td>2016-03-27 00:53:11                  </td><td>0                                    </td></tr>\n",
       "\t<tr><td>80.23                                </td><td>31                                   </td><td>68441.85                             </td><td>193.77                               </td><td>Monitored national standardization   </td><td>West Jodi                            </td><td>1                                    </td><td>Nauru                                </td><td>2016-04-04 01:39:02                  </td><td>0                                    </td></tr>\n",
       "\t<tr><td>69.47                                </td><td>26                                   </td><td>59785.94                             </td><td>236.50                               </td><td>Organic bottom-line service-desk     </td><td>Davidton                             </td><td>0                                    </td><td>San Marino                           </td><td>2016-03-13 20:35:42                  </td><td>0                                    </td></tr>\n",
       "\t<tr><td>74.15                                </td><td>29                                   </td><td>54806.18                             </td><td>245.89                               </td><td>Triple-buffered reciprocal time-frame</td><td>West Terrifurt                       </td><td>1                                    </td><td>Italy                                </td><td>2016-01-10 02:31:19                  </td><td>0                                    </td></tr>\n",
       "\t<tr><td>68.37                                </td><td>35                                   </td><td>73889.99                             </td><td>225.58                               </td><td>Robust logistical utilization        </td><td>South Manuel                         </td><td>0                                    </td><td>Iceland                              </td><td>2016-06-03 03:36:18                  </td><td>0                                    </td></tr>\n",
       "\t<tr><td>59.99                                </td><td>23                                   </td><td>59761.56                             </td><td>226.74                               </td><td>Sharable client-driven software      </td><td>Jamieberg                            </td><td>1                                    </td><td>Norway                               </td><td>2016-05-19 14:30:17                  </td><td>0                                    </td></tr>\n",
       "\t<tr><td>88.91                                </td><td>33                                   </td><td>53852.85                             </td><td>208.36                               </td><td>Enhanced dedicated support           </td><td>Brandonstad                          </td><td>0                                    </td><td>Myanmar                              </td><td>2016-01-28 20:59:32                  </td><td>0                                    </td></tr>\n",
       "\t<tr><td>66.00                                </td><td>48                                   </td><td>24593.33                             </td><td>131.76                               </td><td>Reactive local challenge             </td><td>Port Jefferybury                     </td><td>1                                    </td><td>Australia                            </td><td>2016-03-07 01:40:15                  </td><td>1                                    </td></tr>\n",
       "\t<tr><td>74.53                                </td><td>30                                   </td><td>68862.00                             </td><td>221.51                               </td><td>Configurable coherent function       </td><td>West Colin                           </td><td>1                                    </td><td>Grenada                              </td><td>2016-04-18 09:33:42                  </td><td>0                                    </td></tr>\n",
       "\t<tr><td>69.88                                </td><td>20                                   </td><td>55642.32                             </td><td>183.82                               </td><td>Mandatory homogeneous architecture   </td><td>Ramirezton                           </td><td>1                                    </td><td>Ghana                                </td><td>2016-07-11 01:42:51                  </td><td>0                                    </td></tr>\n",
       "</tbody>\n",
       "</table>\n"
      ],
      "text/latex": [
       "\\begin{tabular}{r|llllllllll}\n",
       " Daily.Time.Spent.on.Site & Age & Area.Income & Daily.Internet.Usage & Ad.Topic.Line & City & Male & Country & Timestamp & Clicked.on.Ad\\\\\n",
       "\\hline\n",
       "\t 68.95                                 & 35                                    & 61833.90                              & 256.09                                & Cloned 5thgeneration orchestration    & Wrightburgh                           & 0                                     & Tunisia                               & 2016-03-27 00:53:11                   & 0                                    \\\\\n",
       "\t 80.23                                 & 31                                    & 68441.85                              & 193.77                                & Monitored national standardization    & West Jodi                             & 1                                     & Nauru                                 & 2016-04-04 01:39:02                   & 0                                    \\\\\n",
       "\t 69.47                                 & 26                                    & 59785.94                              & 236.50                                & Organic bottom-line service-desk      & Davidton                              & 0                                     & San Marino                            & 2016-03-13 20:35:42                   & 0                                    \\\\\n",
       "\t 74.15                                 & 29                                    & 54806.18                              & 245.89                                & Triple-buffered reciprocal time-frame & West Terrifurt                        & 1                                     & Italy                                 & 2016-01-10 02:31:19                   & 0                                    \\\\\n",
       "\t 68.37                                 & 35                                    & 73889.99                              & 225.58                                & Robust logistical utilization         & South Manuel                          & 0                                     & Iceland                               & 2016-06-03 03:36:18                   & 0                                    \\\\\n",
       "\t 59.99                                 & 23                                    & 59761.56                              & 226.74                                & Sharable client-driven software       & Jamieberg                             & 1                                     & Norway                                & 2016-05-19 14:30:17                   & 0                                    \\\\\n",
       "\t 88.91                                 & 33                                    & 53852.85                              & 208.36                                & Enhanced dedicated support            & Brandonstad                           & 0                                     & Myanmar                               & 2016-01-28 20:59:32                   & 0                                    \\\\\n",
       "\t 66.00                                 & 48                                    & 24593.33                              & 131.76                                & Reactive local challenge              & Port Jefferybury                      & 1                                     & Australia                             & 2016-03-07 01:40:15                   & 1                                    \\\\\n",
       "\t 74.53                                 & 30                                    & 68862.00                              & 221.51                                & Configurable coherent function        & West Colin                            & 1                                     & Grenada                               & 2016-04-18 09:33:42                   & 0                                    \\\\\n",
       "\t 69.88                                 & 20                                    & 55642.32                              & 183.82                                & Mandatory homogeneous architecture    & Ramirezton                            & 1                                     & Ghana                                 & 2016-07-11 01:42:51                   & 0                                    \\\\\n",
       "\\end{tabular}\n"
      ],
      "text/markdown": [
       "\n",
       "| Daily.Time.Spent.on.Site | Age | Area.Income | Daily.Internet.Usage | Ad.Topic.Line | City | Male | Country | Timestamp | Clicked.on.Ad |\n",
       "|---|---|---|---|---|---|---|---|---|---|\n",
       "| 68.95                                 | 35                                    | 61833.90                              | 256.09                                | Cloned 5thgeneration orchestration    | Wrightburgh                           | 0                                     | Tunisia                               | 2016-03-27 00:53:11                   | 0                                     |\n",
       "| 80.23                                 | 31                                    | 68441.85                              | 193.77                                | Monitored national standardization    | West Jodi                             | 1                                     | Nauru                                 | 2016-04-04 01:39:02                   | 0                                     |\n",
       "| 69.47                                 | 26                                    | 59785.94                              | 236.50                                | Organic bottom-line service-desk      | Davidton                              | 0                                     | San Marino                            | 2016-03-13 20:35:42                   | 0                                     |\n",
       "| 74.15                                 | 29                                    | 54806.18                              | 245.89                                | Triple-buffered reciprocal time-frame | West Terrifurt                        | 1                                     | Italy                                 | 2016-01-10 02:31:19                   | 0                                     |\n",
       "| 68.37                                 | 35                                    | 73889.99                              | 225.58                                | Robust logistical utilization         | South Manuel                          | 0                                     | Iceland                               | 2016-06-03 03:36:18                   | 0                                     |\n",
       "| 59.99                                 | 23                                    | 59761.56                              | 226.74                                | Sharable client-driven software       | Jamieberg                             | 1                                     | Norway                                | 2016-05-19 14:30:17                   | 0                                     |\n",
       "| 88.91                                 | 33                                    | 53852.85                              | 208.36                                | Enhanced dedicated support            | Brandonstad                           | 0                                     | Myanmar                               | 2016-01-28 20:59:32                   | 0                                     |\n",
       "| 66.00                                 | 48                                    | 24593.33                              | 131.76                                | Reactive local challenge              | Port Jefferybury                      | 1                                     | Australia                             | 2016-03-07 01:40:15                   | 1                                     |\n",
       "| 74.53                                 | 30                                    | 68862.00                              | 221.51                                | Configurable coherent function        | West Colin                            | 1                                     | Grenada                               | 2016-04-18 09:33:42                   | 0                                     |\n",
       "| 69.88                                 | 20                                    | 55642.32                              | 183.82                                | Mandatory homogeneous architecture    | Ramirezton                            | 1                                     | Ghana                                 | 2016-07-11 01:42:51                   | 0                                     |\n",
       "\n"
      ],
      "text/plain": [
       "   Daily.Time.Spent.on.Site Age Area.Income Daily.Internet.Usage\n",
       "1  68.95                    35  61833.90    256.09              \n",
       "2  80.23                    31  68441.85    193.77              \n",
       "3  69.47                    26  59785.94    236.50              \n",
       "4  74.15                    29  54806.18    245.89              \n",
       "5  68.37                    35  73889.99    225.58              \n",
       "6  59.99                    23  59761.56    226.74              \n",
       "7  88.91                    33  53852.85    208.36              \n",
       "8  66.00                    48  24593.33    131.76              \n",
       "9  74.53                    30  68862.00    221.51              \n",
       "10 69.88                    20  55642.32    183.82              \n",
       "   Ad.Topic.Line                         City             Male Country   \n",
       "1  Cloned 5thgeneration orchestration    Wrightburgh      0    Tunisia   \n",
       "2  Monitored national standardization    West Jodi        1    Nauru     \n",
       "3  Organic bottom-line service-desk      Davidton         0    San Marino\n",
       "4  Triple-buffered reciprocal time-frame West Terrifurt   1    Italy     \n",
       "5  Robust logistical utilization         South Manuel     0    Iceland   \n",
       "6  Sharable client-driven software       Jamieberg        1    Norway    \n",
       "7  Enhanced dedicated support            Brandonstad      0    Myanmar   \n",
       "8  Reactive local challenge              Port Jefferybury 1    Australia \n",
       "9  Configurable coherent function        West Colin       1    Grenada   \n",
       "10 Mandatory homogeneous architecture    Ramirezton       1    Ghana     \n",
       "   Timestamp           Clicked.on.Ad\n",
       "1  2016-03-27 00:53:11 0            \n",
       "2  2016-04-04 01:39:02 0            \n",
       "3  2016-03-13 20:35:42 0            \n",
       "4  2016-01-10 02:31:19 0            \n",
       "5  2016-06-03 03:36:18 0            \n",
       "6  2016-05-19 14:30:17 0            \n",
       "7  2016-01-28 20:59:32 0            \n",
       "8  2016-03-07 01:40:15 1            \n",
       "9  2016-04-18 09:33:42 0            \n",
       "10 2016-07-11 01:42:51 0            "
      ]
     },
     "metadata": {},
     "output_type": "display_data"
    }
   ],
   "source": [
    "adv <- read.csv(\"advertising.csv\",header = T)\n",
    "\n",
    "head(adv,10)"
   ]
  },
  {
   "cell_type": "code",
   "execution_count": 5,
   "metadata": {},
   "outputs": [
    {
     "data": {
      "text/html": [
       "<ol class=list-inline>\n",
       "\t<li>'Daily.Time.Spent.on.Site'</li>\n",
       "\t<li>'Age'</li>\n",
       "\t<li>'Area.Income'</li>\n",
       "\t<li>'Daily.Internet.Usage'</li>\n",
       "\t<li>'Ad.Topic.Line'</li>\n",
       "\t<li>'City'</li>\n",
       "\t<li>'Male'</li>\n",
       "\t<li>'Country'</li>\n",
       "\t<li>'Timestamp'</li>\n",
       "\t<li>'Clicked.on.Ad'</li>\n",
       "</ol>\n"
      ],
      "text/latex": [
       "\\begin{enumerate*}\n",
       "\\item 'Daily.Time.Spent.on.Site'\n",
       "\\item 'Age'\n",
       "\\item 'Area.Income'\n",
       "\\item 'Daily.Internet.Usage'\n",
       "\\item 'Ad.Topic.Line'\n",
       "\\item 'City'\n",
       "\\item 'Male'\n",
       "\\item 'Country'\n",
       "\\item 'Timestamp'\n",
       "\\item 'Clicked.on.Ad'\n",
       "\\end{enumerate*}\n"
      ],
      "text/markdown": [
       "1. 'Daily.Time.Spent.on.Site'\n",
       "2. 'Age'\n",
       "3. 'Area.Income'\n",
       "4. 'Daily.Internet.Usage'\n",
       "5. 'Ad.Topic.Line'\n",
       "6. 'City'\n",
       "7. 'Male'\n",
       "8. 'Country'\n",
       "9. 'Timestamp'\n",
       "10. 'Clicked.on.Ad'\n",
       "\n",
       "\n"
      ],
      "text/plain": [
       " [1] \"Daily.Time.Spent.on.Site\" \"Age\"                     \n",
       " [3] \"Area.Income\"              \"Daily.Internet.Usage\"    \n",
       " [5] \"Ad.Topic.Line\"            \"City\"                    \n",
       " [7] \"Male\"                     \"Country\"                 \n",
       " [9] \"Timestamp\"                \"Clicked.on.Ad\"           "
      ]
     },
     "metadata": {},
     "output_type": "display_data"
    }
   ],
   "source": [
    "#the column names\n",
    "colnames(adv)"
   ]
  },
  {
   "cell_type": "code",
   "execution_count": null,
   "metadata": {},
   "outputs": [],
   "source": []
  }
 ],
 "metadata": {
  "kernelspec": {
   "display_name": "R",
   "language": "R",
   "name": "ir"
  },
  "language_info": {
   "codemirror_mode": "r",
   "file_extension": ".r",
   "mimetype": "text/x-r-source",
   "name": "R",
   "pygments_lexer": "r",
   "version": "3.6.1"
  }
 },
 "nbformat": 4,
 "nbformat_minor": 2
}
