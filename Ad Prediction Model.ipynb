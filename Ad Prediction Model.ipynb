{
 "cells": [
  {
   "cell_type": "markdown",
   "metadata": {},
   "source": [
    "# Problem Statement\n",
    "\n",
    "A Kenyan entrepreneur has created an online cryptography course and would want to advertise it on her blog. She currently targets audiences originating from various countries. In the past, she ran ads to advertise a related course on the same blog and collected data in the process. The project below presents a solution that would allow her to determine whether ads targeted to audiences of certain characteristics i.e. city, male country, ad topic, etc. would click on her ads. \n",
    "\n",
    "The solution involves creating a prediction model that will accurately predict whether a user will click an Ad.\n"
   ]
  },
  {
   "cell_type": "markdown",
   "metadata": {},
   "source": [
    "# Metrics of Success"
   ]
  },
  {
   "cell_type": "markdown",
   "metadata": {},
   "source": [
    "# Experimental Design"
   ]
  },
  {
   "cell_type": "markdown",
   "metadata": {},
   "source": [
    "# Loading the Dataset"
   ]
  },
  {
   "cell_type": "code",
   "execution_count": 10,
   "metadata": {},
   "outputs": [],
   "source": [
    "#code to suppress warnings\n",
    "#setting the option warn \n",
    "options(warn=-1)"
   ]
  },
  {
   "cell_type": "code",
   "execution_count": 11,
   "metadata": {},
   "outputs": [],
   "source": [
    "#installing the packages\n",
    "# List of packages\n",
    "package_list <- c(\"tidyverse\", \"lubridate\", \"readxl\", \"tidyr\", \"Hmisc\", \"skimr\",\n",
    "                  \"ggcorrplot\",\"caret\", \"caretEnsemble\", \"PerformanceAnalytics\",\n",
    "                  \"kableExtra\", \"kernlab\", \"randomForest\", \"xgboost\")\n",
    "\n",
    "# Load/Install packages\n",
    "suppressMessages(pacman::p_load(package_list, character.only = TRUE))"
   ]
  },
  {
   "cell_type": "code",
   "execution_count": 14,
   "metadata": {},
   "outputs": [],
   "source": [
    "#install tibble to be able to convert the dataframe into tibble\n",
    "install.packages(\"tibble\")"
   ]
  },
  {
   "cell_type": "code",
   "execution_count": 105,
   "metadata": {},
   "outputs": [
    {
     "data": {
      "text/html": [
       "<table>\n",
       "<thead><tr><th scope=col>Daily.Time.Spent.on.Site</th><th scope=col>Age</th><th scope=col>Area.Income</th><th scope=col>Daily.Internet.Usage</th><th scope=col>Ad.Topic.Line</th><th scope=col>City</th><th scope=col>Male</th><th scope=col>Country</th><th scope=col>Timestamp</th><th scope=col>Clicked.on.Ad</th></tr></thead>\n",
       "<tbody>\n",
       "\t<tr><td>68.95                                </td><td>35                                   </td><td>61833.90                             </td><td>256.09                               </td><td>Cloned 5thgeneration orchestration   </td><td>Wrightburgh                          </td><td>0                                    </td><td>Tunisia                              </td><td>2016-03-27 00:53:11                  </td><td>0                                    </td></tr>\n",
       "\t<tr><td>80.23                                </td><td>31                                   </td><td>68441.85                             </td><td>193.77                               </td><td>Monitored national standardization   </td><td>West Jodi                            </td><td>1                                    </td><td>Nauru                                </td><td>2016-04-04 01:39:02                  </td><td>0                                    </td></tr>\n",
       "\t<tr><td>69.47                                </td><td>26                                   </td><td>59785.94                             </td><td>236.50                               </td><td>Organic bottom-line service-desk     </td><td>Davidton                             </td><td>0                                    </td><td>San Marino                           </td><td>2016-03-13 20:35:42                  </td><td>0                                    </td></tr>\n",
       "\t<tr><td>74.15                                </td><td>29                                   </td><td>54806.18                             </td><td>245.89                               </td><td>Triple-buffered reciprocal time-frame</td><td>West Terrifurt                       </td><td>1                                    </td><td>Italy                                </td><td>2016-01-10 02:31:19                  </td><td>0                                    </td></tr>\n",
       "\t<tr><td>68.37                                </td><td>35                                   </td><td>73889.99                             </td><td>225.58                               </td><td>Robust logistical utilization        </td><td>South Manuel                         </td><td>0                                    </td><td>Iceland                              </td><td>2016-06-03 03:36:18                  </td><td>0                                    </td></tr>\n",
       "\t<tr><td>59.99                                </td><td>23                                   </td><td>59761.56                             </td><td>226.74                               </td><td>Sharable client-driven software      </td><td>Jamieberg                            </td><td>1                                    </td><td>Norway                               </td><td>2016-05-19 14:30:17                  </td><td>0                                    </td></tr>\n",
       "</tbody>\n",
       "</table>\n"
      ],
      "text/latex": [
       "\\begin{tabular}{r|llllllllll}\n",
       " Daily.Time.Spent.on.Site & Age & Area.Income & Daily.Internet.Usage & Ad.Topic.Line & City & Male & Country & Timestamp & Clicked.on.Ad\\\\\n",
       "\\hline\n",
       "\t 68.95                                 & 35                                    & 61833.90                              & 256.09                                & Cloned 5thgeneration orchestration    & Wrightburgh                           & 0                                     & Tunisia                               & 2016-03-27 00:53:11                   & 0                                    \\\\\n",
       "\t 80.23                                 & 31                                    & 68441.85                              & 193.77                                & Monitored national standardization    & West Jodi                             & 1                                     & Nauru                                 & 2016-04-04 01:39:02                   & 0                                    \\\\\n",
       "\t 69.47                                 & 26                                    & 59785.94                              & 236.50                                & Organic bottom-line service-desk      & Davidton                              & 0                                     & San Marino                            & 2016-03-13 20:35:42                   & 0                                    \\\\\n",
       "\t 74.15                                 & 29                                    & 54806.18                              & 245.89                                & Triple-buffered reciprocal time-frame & West Terrifurt                        & 1                                     & Italy                                 & 2016-01-10 02:31:19                   & 0                                    \\\\\n",
       "\t 68.37                                 & 35                                    & 73889.99                              & 225.58                                & Robust logistical utilization         & South Manuel                          & 0                                     & Iceland                               & 2016-06-03 03:36:18                   & 0                                    \\\\\n",
       "\t 59.99                                 & 23                                    & 59761.56                              & 226.74                                & Sharable client-driven software       & Jamieberg                             & 1                                     & Norway                                & 2016-05-19 14:30:17                   & 0                                    \\\\\n",
       "\\end{tabular}\n"
      ],
      "text/markdown": [
       "\n",
       "| Daily.Time.Spent.on.Site | Age | Area.Income | Daily.Internet.Usage | Ad.Topic.Line | City | Male | Country | Timestamp | Clicked.on.Ad |\n",
       "|---|---|---|---|---|---|---|---|---|---|\n",
       "| 68.95                                 | 35                                    | 61833.90                              | 256.09                                | Cloned 5thgeneration orchestration    | Wrightburgh                           | 0                                     | Tunisia                               | 2016-03-27 00:53:11                   | 0                                     |\n",
       "| 80.23                                 | 31                                    | 68441.85                              | 193.77                                | Monitored national standardization    | West Jodi                             | 1                                     | Nauru                                 | 2016-04-04 01:39:02                   | 0                                     |\n",
       "| 69.47                                 | 26                                    | 59785.94                              | 236.50                                | Organic bottom-line service-desk      | Davidton                              | 0                                     | San Marino                            | 2016-03-13 20:35:42                   | 0                                     |\n",
       "| 74.15                                 | 29                                    | 54806.18                              | 245.89                                | Triple-buffered reciprocal time-frame | West Terrifurt                        | 1                                     | Italy                                 | 2016-01-10 02:31:19                   | 0                                     |\n",
       "| 68.37                                 | 35                                    | 73889.99                              | 225.58                                | Robust logistical utilization         | South Manuel                          | 0                                     | Iceland                               | 2016-06-03 03:36:18                   | 0                                     |\n",
       "| 59.99                                 | 23                                    | 59761.56                              | 226.74                                | Sharable client-driven software       | Jamieberg                             | 1                                     | Norway                                | 2016-05-19 14:30:17                   | 0                                     |\n",
       "\n"
      ],
      "text/plain": [
       "  Daily.Time.Spent.on.Site Age Area.Income Daily.Internet.Usage\n",
       "1 68.95                    35  61833.90    256.09              \n",
       "2 80.23                    31  68441.85    193.77              \n",
       "3 69.47                    26  59785.94    236.50              \n",
       "4 74.15                    29  54806.18    245.89              \n",
       "5 68.37                    35  73889.99    225.58              \n",
       "6 59.99                    23  59761.56    226.74              \n",
       "  Ad.Topic.Line                         City           Male Country   \n",
       "1 Cloned 5thgeneration orchestration    Wrightburgh    0    Tunisia   \n",
       "2 Monitored national standardization    West Jodi      1    Nauru     \n",
       "3 Organic bottom-line service-desk      Davidton       0    San Marino\n",
       "4 Triple-buffered reciprocal time-frame West Terrifurt 1    Italy     \n",
       "5 Robust logistical utilization         South Manuel   0    Iceland   \n",
       "6 Sharable client-driven software       Jamieberg      1    Norway    \n",
       "  Timestamp           Clicked.on.Ad\n",
       "1 2016-03-27 00:53:11 0            \n",
       "2 2016-04-04 01:39:02 0            \n",
       "3 2016-03-13 20:35:42 0            \n",
       "4 2016-01-10 02:31:19 0            \n",
       "5 2016-06-03 03:36:18 0            \n",
       "6 2016-05-19 14:30:17 0            "
      ]
     },
     "metadata": {},
     "output_type": "display_data"
    }
   ],
   "source": [
    "#loading the dataset and coverting it into Tibble\n",
    "adv <- read.csv(\"advertising.csv\", stringsAsFactors=FALSE)\n",
    "\n",
    "head(adv)\n"
   ]
  },
  {
   "cell_type": "code",
   "execution_count": null,
   "metadata": {},
   "outputs": [],
   "source": [
    "#converting the adv dataframe to a tibble\n",
    "as_tibble(adv)"
   ]
  },
  {
   "cell_type": "code",
   "execution_count": 30,
   "metadata": {},
   "outputs": [
    {
     "data": {
      "text/html": [
       "1000"
      ],
      "text/latex": [
       "1000"
      ],
      "text/markdown": [
       "1000"
      ],
      "text/plain": [
       "[1] 1000"
      ]
     },
     "metadata": {},
     "output_type": "display_data"
    }
   ],
   "source": [
    "#previewing the number of rows in the dataset\n",
    "nrow(adv)"
   ]
  },
  {
   "cell_type": "code",
   "execution_count": 21,
   "metadata": {},
   "outputs": [
    {
     "data": {
      "text/html": [
       "10"
      ],
      "text/latex": [
       "10"
      ],
      "text/markdown": [
       "10"
      ],
      "text/plain": [
       "[1] 10"
      ]
     },
     "metadata": {},
     "output_type": "display_data"
    }
   ],
   "source": [
    "#previewing the number of columns in the dataset\n",
    "ncol(adv)"
   ]
  },
  {
   "cell_type": "markdown",
   "metadata": {},
   "source": [
    "# Data Cleaning and Exploration"
   ]
  },
  {
   "cell_type": "code",
   "execution_count": 107,
   "metadata": {},
   "outputs": [
    {
     "data": {
      "text/html": [
       "<ol class=list-inline>\n",
       "\t<li>'Daily.Time.Spent.on.Site'</li>\n",
       "\t<li>'Age'</li>\n",
       "\t<li>'Area.Income'</li>\n",
       "\t<li>'Daily.Internet.Usage'</li>\n",
       "\t<li>'Ad.Topic.Line'</li>\n",
       "\t<li>'City'</li>\n",
       "\t<li>'Male'</li>\n",
       "\t<li>'Country'</li>\n",
       "\t<li>'Timestamp'</li>\n",
       "\t<li>'Clicked.on.Ad'</li>\n",
       "</ol>\n"
      ],
      "text/latex": [
       "\\begin{enumerate*}\n",
       "\\item 'Daily.Time.Spent.on.Site'\n",
       "\\item 'Age'\n",
       "\\item 'Area.Income'\n",
       "\\item 'Daily.Internet.Usage'\n",
       "\\item 'Ad.Topic.Line'\n",
       "\\item 'City'\n",
       "\\item 'Male'\n",
       "\\item 'Country'\n",
       "\\item 'Timestamp'\n",
       "\\item 'Clicked.on.Ad'\n",
       "\\end{enumerate*}\n"
      ],
      "text/markdown": [
       "1. 'Daily.Time.Spent.on.Site'\n",
       "2. 'Age'\n",
       "3. 'Area.Income'\n",
       "4. 'Daily.Internet.Usage'\n",
       "5. 'Ad.Topic.Line'\n",
       "6. 'City'\n",
       "7. 'Male'\n",
       "8. 'Country'\n",
       "9. 'Timestamp'\n",
       "10. 'Clicked.on.Ad'\n",
       "\n",
       "\n"
      ],
      "text/plain": [
       " [1] \"Daily.Time.Spent.on.Site\" \"Age\"                     \n",
       " [3] \"Area.Income\"              \"Daily.Internet.Usage\"    \n",
       " [5] \"Ad.Topic.Line\"            \"City\"                    \n",
       " [7] \"Male\"                     \"Country\"                 \n",
       " [9] \"Timestamp\"                \"Clicked.on.Ad\"           "
      ]
     },
     "metadata": {},
     "output_type": "display_data"
    }
   ],
   "source": [
    "#checking the column names\n",
    "colnames(adv)"
   ]
  },
  {
   "cell_type": "code",
   "execution_count": 108,
   "metadata": {},
   "outputs": [],
   "source": [
    "#converting the column names into lower case and stripping the '.' to ensure uniformity\n",
    "\n",
    "colnames(adv) = tolower(str_replace_all(colnames(adv), c('[.]' = '_')))\n"
   ]
  },
  {
   "cell_type": "code",
   "execution_count": 109,
   "metadata": {},
   "outputs": [
    {
     "data": {
      "text/html": [
       "<ol class=list-inline>\n",
       "\t<li>'daily_time_spent_on_site'</li>\n",
       "\t<li>'age'</li>\n",
       "\t<li>'area_income'</li>\n",
       "\t<li>'daily_internet_usage'</li>\n",
       "\t<li>'ad_topic_line'</li>\n",
       "\t<li>'city'</li>\n",
       "\t<li>'male'</li>\n",
       "\t<li>'country'</li>\n",
       "\t<li>'timestamp'</li>\n",
       "\t<li>'clicked_on_ad'</li>\n",
       "</ol>\n"
      ],
      "text/latex": [
       "\\begin{enumerate*}\n",
       "\\item 'daily\\_time\\_spent\\_on\\_site'\n",
       "\\item 'age'\n",
       "\\item 'area\\_income'\n",
       "\\item 'daily\\_internet\\_usage'\n",
       "\\item 'ad\\_topic\\_line'\n",
       "\\item 'city'\n",
       "\\item 'male'\n",
       "\\item 'country'\n",
       "\\item 'timestamp'\n",
       "\\item 'clicked\\_on\\_ad'\n",
       "\\end{enumerate*}\n"
      ],
      "text/markdown": [
       "1. 'daily_time_spent_on_site'\n",
       "2. 'age'\n",
       "3. 'area_income'\n",
       "4. 'daily_internet_usage'\n",
       "5. 'ad_topic_line'\n",
       "6. 'city'\n",
       "7. 'male'\n",
       "8. 'country'\n",
       "9. 'timestamp'\n",
       "10. 'clicked_on_ad'\n",
       "\n",
       "\n"
      ],
      "text/plain": [
       " [1] \"daily_time_spent_on_site\" \"age\"                     \n",
       " [3] \"area_income\"              \"daily_internet_usage\"    \n",
       " [5] \"ad_topic_line\"            \"city\"                    \n",
       " [7] \"male\"                     \"country\"                 \n",
       " [9] \"timestamp\"                \"clicked_on_ad\"           "
      ]
     },
     "metadata": {},
     "output_type": "display_data"
    }
   ],
   "source": [
    "#checking the column names have been changed\n",
    "colnames(adv)"
   ]
  },
  {
   "cell_type": "code",
   "execution_count": 110,
   "metadata": {},
   "outputs": [
    {
     "name": "stdout",
     "output_type": "stream",
     "text": [
      "Observations: 1,000\n",
      "Variables: 10\n",
      "$ daily_time_spent_on_site <dbl> 68.95, 80.23, 69.47, 74.15, 68.37, 59.99, ...\n",
      "$ age                      <int> 35, 31, 26, 29, 35, 23, 33, 48, 30, 20, 49...\n",
      "$ area_income              <dbl> 61833.90, 68441.85, 59785.94, 54806.18, 73...\n",
      "$ daily_internet_usage     <dbl> 256.09, 193.77, 236.50, 245.89, 225.58, 22...\n",
      "$ ad_topic_line            <chr> \"Cloned 5thgeneration orchestration\", \"Mon...\n",
      "$ city                     <chr> \"Wrightburgh\", \"West Jodi\", \"Davidton\", \"W...\n",
      "$ male                     <int> 0, 1, 0, 1, 0, 1, 0, 1, 1, 1, 0, 1, 1, 0, ...\n",
      "$ country                  <chr> \"Tunisia\", \"Nauru\", \"San Marino\", \"Italy\",...\n",
      "$ timestamp                <chr> \"2016-03-27 00:53:11\", \"2016-04-04 01:39:0...\n",
      "$ clicked_on_ad            <int> 0, 0, 0, 0, 0, 0, 0, 1, 0, 0, 1, 0, 1, 0, ...\n"
     ]
    }
   ],
   "source": [
    "# Exploring the variables in the dataset using the glimpse function\n",
    "glimpse(adv)"
   ]
  },
  {
   "cell_type": "code",
   "execution_count": 111,
   "metadata": {},
   "outputs": [],
   "source": [
    "#converting the columns in factor datatype to character datatype i.e column 5,6 and 8\n",
    "\n",
    "cols_to_change = c(5, 6, 8)\n",
    "for(i in cols_to_change){\n",
    "   class(adv[, i]) = \"character\"\n",
    "}"
   ]
  },
  {
   "cell_type": "code",
   "execution_count": 116,
   "metadata": {},
   "outputs": [
    {
     "name": "stdout",
     "output_type": "stream",
     "text": [
      "Observations: 1,000\n",
      "Variables: 11\n",
      "$ daily_time_spent_on_site <dbl> 68.95, 80.23, 69.47, 74.15, 68.37, 59.99, ...\n",
      "$ age                      <int> 35, 31, 26, 29, 35, 23, 33, 48, 30, 20, 49...\n",
      "$ area_income              <dbl> 61833.90, 68441.85, 59785.94, 54806.18, 73...\n",
      "$ daily_internet_usage     <dbl> 256.09, 193.77, 236.50, 245.89, 225.58, 22...\n",
      "$ ad_topic_line            <chr> \"Cloned 5thgeneration orchestration\", \"Mon...\n",
      "$ city                     <chr> \"Wrightburgh\", \"West Jodi\", \"Davidton\", \"W...\n",
      "$ male                     <int> 0, 1, 0, 1, 0, 1, 0, 1, 1, 1, 0, 1, 1, 0, ...\n",
      "$ country                  <chr> \"Tunisia\", \"Nauru\", \"San Marino\", \"Italy\",...\n",
      "$ timestamp                <chr> \"2016-03-27 00:53:11\", \"2016-04-04 01:39:0...\n",
      "$ clicked_on_ad            <int> 0, 0, 0, 0, 0, 0, 0, 1, 0, 0, 1, 0, 1, 0, ...\n",
      "$ Date                     <date> NA, NA, NA, NA, NA, NA, NA, NA, NA, NA, N...\n"
     ]
    }
   ],
   "source": [
    "glimpse(adv)"
   ]
  },
  {
   "cell_type": "code",
   "execution_count": 113,
   "metadata": {},
   "outputs": [
    {
     "data": {
      "text/html": [
       "<table>\n",
       "<thead><tr><th scope=col>daily_time_spent_on_site</th><th scope=col>age</th><th scope=col>area_income</th><th scope=col>daily_internet_usage</th><th scope=col>ad_topic_line</th><th scope=col>city</th><th scope=col>male</th><th scope=col>country</th><th scope=col>timestamp</th><th scope=col>clicked_on_ad</th></tr></thead>\n",
       "<tbody>\n",
       "\t<tr><td>68.95                                </td><td>35                                   </td><td>61833.90                             </td><td>256.09                               </td><td>Cloned 5thgeneration orchestration   </td><td>Wrightburgh                          </td><td>0                                    </td><td>Tunisia                              </td><td>2016-03-27 00:53:11                  </td><td>0                                    </td></tr>\n",
       "\t<tr><td>80.23                                </td><td>31                                   </td><td>68441.85                             </td><td>193.77                               </td><td>Monitored national standardization   </td><td>West Jodi                            </td><td>1                                    </td><td>Nauru                                </td><td>2016-04-04 01:39:02                  </td><td>0                                    </td></tr>\n",
       "\t<tr><td>69.47                                </td><td>26                                   </td><td>59785.94                             </td><td>236.50                               </td><td>Organic bottom-line service-desk     </td><td>Davidton                             </td><td>0                                    </td><td>San Marino                           </td><td>2016-03-13 20:35:42                  </td><td>0                                    </td></tr>\n",
       "\t<tr><td>74.15                                </td><td>29                                   </td><td>54806.18                             </td><td>245.89                               </td><td>Triple-buffered reciprocal time-frame</td><td>West Terrifurt                       </td><td>1                                    </td><td>Italy                                </td><td>2016-01-10 02:31:19                  </td><td>0                                    </td></tr>\n",
       "\t<tr><td>68.37                                </td><td>35                                   </td><td>73889.99                             </td><td>225.58                               </td><td>Robust logistical utilization        </td><td>South Manuel                         </td><td>0                                    </td><td>Iceland                              </td><td>2016-06-03 03:36:18                  </td><td>0                                    </td></tr>\n",
       "\t<tr><td>59.99                                </td><td>23                                   </td><td>59761.56                             </td><td>226.74                               </td><td>Sharable client-driven software      </td><td>Jamieberg                            </td><td>1                                    </td><td>Norway                               </td><td>2016-05-19 14:30:17                  </td><td>0                                    </td></tr>\n",
       "\t<tr><td>88.91                                </td><td>33                                   </td><td>53852.85                             </td><td>208.36                               </td><td>Enhanced dedicated support           </td><td>Brandonstad                          </td><td>0                                    </td><td>Myanmar                              </td><td>2016-01-28 20:59:32                  </td><td>0                                    </td></tr>\n",
       "\t<tr><td>66.00                                </td><td>48                                   </td><td>24593.33                             </td><td>131.76                               </td><td>Reactive local challenge             </td><td>Port Jefferybury                     </td><td>1                                    </td><td>Australia                            </td><td>2016-03-07 01:40:15                  </td><td>1                                    </td></tr>\n",
       "\t<tr><td>74.53                                </td><td>30                                   </td><td>68862.00                             </td><td>221.51                               </td><td>Configurable coherent function       </td><td>West Colin                           </td><td>1                                    </td><td>Grenada                              </td><td>2016-04-18 09:33:42                  </td><td>0                                    </td></tr>\n",
       "\t<tr><td>69.88                                </td><td>20                                   </td><td>55642.32                             </td><td>183.82                               </td><td>Mandatory homogeneous architecture   </td><td>Ramirezton                           </td><td>1                                    </td><td>Ghana                                </td><td>2016-07-11 01:42:51                  </td><td>0                                    </td></tr>\n",
       "</tbody>\n",
       "</table>\n"
      ],
      "text/latex": [
       "\\begin{tabular}{r|llllllllll}\n",
       " daily\\_time\\_spent\\_on\\_site & age & area\\_income & daily\\_internet\\_usage & ad\\_topic\\_line & city & male & country & timestamp & clicked\\_on\\_ad\\\\\n",
       "\\hline\n",
       "\t 68.95                                 & 35                                    & 61833.90                              & 256.09                                & Cloned 5thgeneration orchestration    & Wrightburgh                           & 0                                     & Tunisia                               & 2016-03-27 00:53:11                   & 0                                    \\\\\n",
       "\t 80.23                                 & 31                                    & 68441.85                              & 193.77                                & Monitored national standardization    & West Jodi                             & 1                                     & Nauru                                 & 2016-04-04 01:39:02                   & 0                                    \\\\\n",
       "\t 69.47                                 & 26                                    & 59785.94                              & 236.50                                & Organic bottom-line service-desk      & Davidton                              & 0                                     & San Marino                            & 2016-03-13 20:35:42                   & 0                                    \\\\\n",
       "\t 74.15                                 & 29                                    & 54806.18                              & 245.89                                & Triple-buffered reciprocal time-frame & West Terrifurt                        & 1                                     & Italy                                 & 2016-01-10 02:31:19                   & 0                                    \\\\\n",
       "\t 68.37                                 & 35                                    & 73889.99                              & 225.58                                & Robust logistical utilization         & South Manuel                          & 0                                     & Iceland                               & 2016-06-03 03:36:18                   & 0                                    \\\\\n",
       "\t 59.99                                 & 23                                    & 59761.56                              & 226.74                                & Sharable client-driven software       & Jamieberg                             & 1                                     & Norway                                & 2016-05-19 14:30:17                   & 0                                    \\\\\n",
       "\t 88.91                                 & 33                                    & 53852.85                              & 208.36                                & Enhanced dedicated support            & Brandonstad                           & 0                                     & Myanmar                               & 2016-01-28 20:59:32                   & 0                                    \\\\\n",
       "\t 66.00                                 & 48                                    & 24593.33                              & 131.76                                & Reactive local challenge              & Port Jefferybury                      & 1                                     & Australia                             & 2016-03-07 01:40:15                   & 1                                    \\\\\n",
       "\t 74.53                                 & 30                                    & 68862.00                              & 221.51                                & Configurable coherent function        & West Colin                            & 1                                     & Grenada                               & 2016-04-18 09:33:42                   & 0                                    \\\\\n",
       "\t 69.88                                 & 20                                    & 55642.32                              & 183.82                                & Mandatory homogeneous architecture    & Ramirezton                            & 1                                     & Ghana                                 & 2016-07-11 01:42:51                   & 0                                    \\\\\n",
       "\\end{tabular}\n"
      ],
      "text/markdown": [
       "\n",
       "| daily_time_spent_on_site | age | area_income | daily_internet_usage | ad_topic_line | city | male | country | timestamp | clicked_on_ad |\n",
       "|---|---|---|---|---|---|---|---|---|---|\n",
       "| 68.95                                 | 35                                    | 61833.90                              | 256.09                                | Cloned 5thgeneration orchestration    | Wrightburgh                           | 0                                     | Tunisia                               | 2016-03-27 00:53:11                   | 0                                     |\n",
       "| 80.23                                 | 31                                    | 68441.85                              | 193.77                                | Monitored national standardization    | West Jodi                             | 1                                     | Nauru                                 | 2016-04-04 01:39:02                   | 0                                     |\n",
       "| 69.47                                 | 26                                    | 59785.94                              | 236.50                                | Organic bottom-line service-desk      | Davidton                              | 0                                     | San Marino                            | 2016-03-13 20:35:42                   | 0                                     |\n",
       "| 74.15                                 | 29                                    | 54806.18                              | 245.89                                | Triple-buffered reciprocal time-frame | West Terrifurt                        | 1                                     | Italy                                 | 2016-01-10 02:31:19                   | 0                                     |\n",
       "| 68.37                                 | 35                                    | 73889.99                              | 225.58                                | Robust logistical utilization         | South Manuel                          | 0                                     | Iceland                               | 2016-06-03 03:36:18                   | 0                                     |\n",
       "| 59.99                                 | 23                                    | 59761.56                              | 226.74                                | Sharable client-driven software       | Jamieberg                             | 1                                     | Norway                                | 2016-05-19 14:30:17                   | 0                                     |\n",
       "| 88.91                                 | 33                                    | 53852.85                              | 208.36                                | Enhanced dedicated support            | Brandonstad                           | 0                                     | Myanmar                               | 2016-01-28 20:59:32                   | 0                                     |\n",
       "| 66.00                                 | 48                                    | 24593.33                              | 131.76                                | Reactive local challenge              | Port Jefferybury                      | 1                                     | Australia                             | 2016-03-07 01:40:15                   | 1                                     |\n",
       "| 74.53                                 | 30                                    | 68862.00                              | 221.51                                | Configurable coherent function        | West Colin                            | 1                                     | Grenada                               | 2016-04-18 09:33:42                   | 0                                     |\n",
       "| 69.88                                 | 20                                    | 55642.32                              | 183.82                                | Mandatory homogeneous architecture    | Ramirezton                            | 1                                     | Ghana                                 | 2016-07-11 01:42:51                   | 0                                     |\n",
       "\n"
      ],
      "text/plain": [
       "   daily_time_spent_on_site age area_income daily_internet_usage\n",
       "1  68.95                    35  61833.90    256.09              \n",
       "2  80.23                    31  68441.85    193.77              \n",
       "3  69.47                    26  59785.94    236.50              \n",
       "4  74.15                    29  54806.18    245.89              \n",
       "5  68.37                    35  73889.99    225.58              \n",
       "6  59.99                    23  59761.56    226.74              \n",
       "7  88.91                    33  53852.85    208.36              \n",
       "8  66.00                    48  24593.33    131.76              \n",
       "9  74.53                    30  68862.00    221.51              \n",
       "10 69.88                    20  55642.32    183.82              \n",
       "   ad_topic_line                         city             male country   \n",
       "1  Cloned 5thgeneration orchestration    Wrightburgh      0    Tunisia   \n",
       "2  Monitored national standardization    West Jodi        1    Nauru     \n",
       "3  Organic bottom-line service-desk      Davidton         0    San Marino\n",
       "4  Triple-buffered reciprocal time-frame West Terrifurt   1    Italy     \n",
       "5  Robust logistical utilization         South Manuel     0    Iceland   \n",
       "6  Sharable client-driven software       Jamieberg        1    Norway    \n",
       "7  Enhanced dedicated support            Brandonstad      0    Myanmar   \n",
       "8  Reactive local challenge              Port Jefferybury 1    Australia \n",
       "9  Configurable coherent function        West Colin       1    Grenada   \n",
       "10 Mandatory homogeneous architecture    Ramirezton       1    Ghana     \n",
       "   timestamp           clicked_on_ad\n",
       "1  2016-03-27 00:53:11 0            \n",
       "2  2016-04-04 01:39:02 0            \n",
       "3  2016-03-13 20:35:42 0            \n",
       "4  2016-01-10 02:31:19 0            \n",
       "5  2016-06-03 03:36:18 0            \n",
       "6  2016-05-19 14:30:17 0            \n",
       "7  2016-01-28 20:59:32 0            \n",
       "8  2016-03-07 01:40:15 1            \n",
       "9  2016-04-18 09:33:42 0            \n",
       "10 2016-07-11 01:42:51 0            "
      ]
     },
     "metadata": {},
     "output_type": "display_data"
    }
   ],
   "source": [
    "head(adv,10)"
   ]
  },
  {
   "cell_type": "code",
   "execution_count": 118,
   "metadata": {},
   "outputs": [],
   "source": [
    "\n",
    "\n",
    "# adv$time <- format(as.POSIXct(strptime(adv$timestamp,format=\"%Y:%m:%d %H:%M:%S\"),\"%H:%M:%S\"))\n",
    "\n",
    "\n",
    "date <- format(as.POSIXct(strptime(adv$timestamp,\"%Y:%m:%d %H:%M:%S\",tz=\"\")) ,format = \"%Y:%m:%d\")\n",
    "\n",
    "time <- format(as.POSIXct(strptime(adv$timestamp,\"%Y:%m:%d %H:%M:%S\",tz=\"\")) ,format = \"%H:%M:%S\") \n",
    "\n",
    "\n",
    "adv$date <- date\n",
    "    adv$time <- time\n"
   ]
  },
  {
   "cell_type": "code",
   "execution_count": 119,
   "metadata": {},
   "outputs": [
    {
     "data": {
      "text/html": [
       "<table>\n",
       "<thead><tr><th scope=col>daily_time_spent_on_site</th><th scope=col>age</th><th scope=col>area_income</th><th scope=col>daily_internet_usage</th><th scope=col>ad_topic_line</th><th scope=col>city</th><th scope=col>male</th><th scope=col>country</th><th scope=col>timestamp</th><th scope=col>clicked_on_ad</th><th scope=col>Date</th><th scope=col>date</th><th scope=col>time</th></tr></thead>\n",
       "<tbody>\n",
       "\t<tr><td>68.95                                </td><td>35                                   </td><td>61833.90                             </td><td>256.09                               </td><td>Cloned 5thgeneration orchestration   </td><td>Wrightburgh                          </td><td>0                                    </td><td>Tunisia                              </td><td>2016-03-27 00:53:11                  </td><td>0                                    </td><td>NA                                   </td><td>NA                                   </td><td>NA                                   </td></tr>\n",
       "\t<tr><td>80.23                                </td><td>31                                   </td><td>68441.85                             </td><td>193.77                               </td><td>Monitored national standardization   </td><td>West Jodi                            </td><td>1                                    </td><td>Nauru                                </td><td>2016-04-04 01:39:02                  </td><td>0                                    </td><td>NA                                   </td><td>NA                                   </td><td>NA                                   </td></tr>\n",
       "\t<tr><td>69.47                                </td><td>26                                   </td><td>59785.94                             </td><td>236.50                               </td><td>Organic bottom-line service-desk     </td><td>Davidton                             </td><td>0                                    </td><td>San Marino                           </td><td>2016-03-13 20:35:42                  </td><td>0                                    </td><td>NA                                   </td><td>NA                                   </td><td>NA                                   </td></tr>\n",
       "\t<tr><td>74.15                                </td><td>29                                   </td><td>54806.18                             </td><td>245.89                               </td><td>Triple-buffered reciprocal time-frame</td><td>West Terrifurt                       </td><td>1                                    </td><td>Italy                                </td><td>2016-01-10 02:31:19                  </td><td>0                                    </td><td>NA                                   </td><td>NA                                   </td><td>NA                                   </td></tr>\n",
       "\t<tr><td>68.37                                </td><td>35                                   </td><td>73889.99                             </td><td>225.58                               </td><td>Robust logistical utilization        </td><td>South Manuel                         </td><td>0                                    </td><td>Iceland                              </td><td>2016-06-03 03:36:18                  </td><td>0                                    </td><td>NA                                   </td><td>NA                                   </td><td>NA                                   </td></tr>\n",
       "\t<tr><td>59.99                                </td><td>23                                   </td><td>59761.56                             </td><td>226.74                               </td><td>Sharable client-driven software      </td><td>Jamieberg                            </td><td>1                                    </td><td>Norway                               </td><td>2016-05-19 14:30:17                  </td><td>0                                    </td><td>NA                                   </td><td>NA                                   </td><td>NA                                   </td></tr>\n",
       "\t<tr><td>88.91                                </td><td>33                                   </td><td>53852.85                             </td><td>208.36                               </td><td>Enhanced dedicated support           </td><td>Brandonstad                          </td><td>0                                    </td><td>Myanmar                              </td><td>2016-01-28 20:59:32                  </td><td>0                                    </td><td>NA                                   </td><td>NA                                   </td><td>NA                                   </td></tr>\n",
       "\t<tr><td>66.00                                </td><td>48                                   </td><td>24593.33                             </td><td>131.76                               </td><td>Reactive local challenge             </td><td>Port Jefferybury                     </td><td>1                                    </td><td>Australia                            </td><td>2016-03-07 01:40:15                  </td><td>1                                    </td><td>NA                                   </td><td>NA                                   </td><td>NA                                   </td></tr>\n",
       "\t<tr><td>74.53                                </td><td>30                                   </td><td>68862.00                             </td><td>221.51                               </td><td>Configurable coherent function       </td><td>West Colin                           </td><td>1                                    </td><td>Grenada                              </td><td>2016-04-18 09:33:42                  </td><td>0                                    </td><td>NA                                   </td><td>NA                                   </td><td>NA                                   </td></tr>\n",
       "\t<tr><td>69.88                                </td><td>20                                   </td><td>55642.32                             </td><td>183.82                               </td><td>Mandatory homogeneous architecture   </td><td>Ramirezton                           </td><td>1                                    </td><td>Ghana                                </td><td>2016-07-11 01:42:51                  </td><td>0                                    </td><td>NA                                   </td><td>NA                                   </td><td>NA                                   </td></tr>\n",
       "</tbody>\n",
       "</table>\n"
      ],
      "text/latex": [
       "\\begin{tabular}{r|lllllllllllll}\n",
       " daily\\_time\\_spent\\_on\\_site & age & area\\_income & daily\\_internet\\_usage & ad\\_topic\\_line & city & male & country & timestamp & clicked\\_on\\_ad & Date & date & time\\\\\n",
       "\\hline\n",
       "\t 68.95                                 & 35                                    & 61833.90                              & 256.09                                & Cloned 5thgeneration orchestration    & Wrightburgh                           & 0                                     & Tunisia                               & 2016-03-27 00:53:11                   & 0                                     & NA                                    & NA                                    & NA                                   \\\\\n",
       "\t 80.23                                 & 31                                    & 68441.85                              & 193.77                                & Monitored national standardization    & West Jodi                             & 1                                     & Nauru                                 & 2016-04-04 01:39:02                   & 0                                     & NA                                    & NA                                    & NA                                   \\\\\n",
       "\t 69.47                                 & 26                                    & 59785.94                              & 236.50                                & Organic bottom-line service-desk      & Davidton                              & 0                                     & San Marino                            & 2016-03-13 20:35:42                   & 0                                     & NA                                    & NA                                    & NA                                   \\\\\n",
       "\t 74.15                                 & 29                                    & 54806.18                              & 245.89                                & Triple-buffered reciprocal time-frame & West Terrifurt                        & 1                                     & Italy                                 & 2016-01-10 02:31:19                   & 0                                     & NA                                    & NA                                    & NA                                   \\\\\n",
       "\t 68.37                                 & 35                                    & 73889.99                              & 225.58                                & Robust logistical utilization         & South Manuel                          & 0                                     & Iceland                               & 2016-06-03 03:36:18                   & 0                                     & NA                                    & NA                                    & NA                                   \\\\\n",
       "\t 59.99                                 & 23                                    & 59761.56                              & 226.74                                & Sharable client-driven software       & Jamieberg                             & 1                                     & Norway                                & 2016-05-19 14:30:17                   & 0                                     & NA                                    & NA                                    & NA                                   \\\\\n",
       "\t 88.91                                 & 33                                    & 53852.85                              & 208.36                                & Enhanced dedicated support            & Brandonstad                           & 0                                     & Myanmar                               & 2016-01-28 20:59:32                   & 0                                     & NA                                    & NA                                    & NA                                   \\\\\n",
       "\t 66.00                                 & 48                                    & 24593.33                              & 131.76                                & Reactive local challenge              & Port Jefferybury                      & 1                                     & Australia                             & 2016-03-07 01:40:15                   & 1                                     & NA                                    & NA                                    & NA                                   \\\\\n",
       "\t 74.53                                 & 30                                    & 68862.00                              & 221.51                                & Configurable coherent function        & West Colin                            & 1                                     & Grenada                               & 2016-04-18 09:33:42                   & 0                                     & NA                                    & NA                                    & NA                                   \\\\\n",
       "\t 69.88                                 & 20                                    & 55642.32                              & 183.82                                & Mandatory homogeneous architecture    & Ramirezton                            & 1                                     & Ghana                                 & 2016-07-11 01:42:51                   & 0                                     & NA                                    & NA                                    & NA                                   \\\\\n",
       "\\end{tabular}\n"
      ],
      "text/markdown": [
       "\n",
       "| daily_time_spent_on_site | age | area_income | daily_internet_usage | ad_topic_line | city | male | country | timestamp | clicked_on_ad | Date | date | time |\n",
       "|---|---|---|---|---|---|---|---|---|---|---|---|---|\n",
       "| 68.95                                 | 35                                    | 61833.90                              | 256.09                                | Cloned 5thgeneration orchestration    | Wrightburgh                           | 0                                     | Tunisia                               | 2016-03-27 00:53:11                   | 0                                     | NA                                    | NA                                    | NA                                    |\n",
       "| 80.23                                 | 31                                    | 68441.85                              | 193.77                                | Monitored national standardization    | West Jodi                             | 1                                     | Nauru                                 | 2016-04-04 01:39:02                   | 0                                     | NA                                    | NA                                    | NA                                    |\n",
       "| 69.47                                 | 26                                    | 59785.94                              | 236.50                                | Organic bottom-line service-desk      | Davidton                              | 0                                     | San Marino                            | 2016-03-13 20:35:42                   | 0                                     | NA                                    | NA                                    | NA                                    |\n",
       "| 74.15                                 | 29                                    | 54806.18                              | 245.89                                | Triple-buffered reciprocal time-frame | West Terrifurt                        | 1                                     | Italy                                 | 2016-01-10 02:31:19                   | 0                                     | NA                                    | NA                                    | NA                                    |\n",
       "| 68.37                                 | 35                                    | 73889.99                              | 225.58                                | Robust logistical utilization         | South Manuel                          | 0                                     | Iceland                               | 2016-06-03 03:36:18                   | 0                                     | NA                                    | NA                                    | NA                                    |\n",
       "| 59.99                                 | 23                                    | 59761.56                              | 226.74                                | Sharable client-driven software       | Jamieberg                             | 1                                     | Norway                                | 2016-05-19 14:30:17                   | 0                                     | NA                                    | NA                                    | NA                                    |\n",
       "| 88.91                                 | 33                                    | 53852.85                              | 208.36                                | Enhanced dedicated support            | Brandonstad                           | 0                                     | Myanmar                               | 2016-01-28 20:59:32                   | 0                                     | NA                                    | NA                                    | NA                                    |\n",
       "| 66.00                                 | 48                                    | 24593.33                              | 131.76                                | Reactive local challenge              | Port Jefferybury                      | 1                                     | Australia                             | 2016-03-07 01:40:15                   | 1                                     | NA                                    | NA                                    | NA                                    |\n",
       "| 74.53                                 | 30                                    | 68862.00                              | 221.51                                | Configurable coherent function        | West Colin                            | 1                                     | Grenada                               | 2016-04-18 09:33:42                   | 0                                     | NA                                    | NA                                    | NA                                    |\n",
       "| 69.88                                 | 20                                    | 55642.32                              | 183.82                                | Mandatory homogeneous architecture    | Ramirezton                            | 1                                     | Ghana                                 | 2016-07-11 01:42:51                   | 0                                     | NA                                    | NA                                    | NA                                    |\n",
       "\n"
      ],
      "text/plain": [
       "   daily_time_spent_on_site age area_income daily_internet_usage\n",
       "1  68.95                    35  61833.90    256.09              \n",
       "2  80.23                    31  68441.85    193.77              \n",
       "3  69.47                    26  59785.94    236.50              \n",
       "4  74.15                    29  54806.18    245.89              \n",
       "5  68.37                    35  73889.99    225.58              \n",
       "6  59.99                    23  59761.56    226.74              \n",
       "7  88.91                    33  53852.85    208.36              \n",
       "8  66.00                    48  24593.33    131.76              \n",
       "9  74.53                    30  68862.00    221.51              \n",
       "10 69.88                    20  55642.32    183.82              \n",
       "   ad_topic_line                         city             male country   \n",
       "1  Cloned 5thgeneration orchestration    Wrightburgh      0    Tunisia   \n",
       "2  Monitored national standardization    West Jodi        1    Nauru     \n",
       "3  Organic bottom-line service-desk      Davidton         0    San Marino\n",
       "4  Triple-buffered reciprocal time-frame West Terrifurt   1    Italy     \n",
       "5  Robust logistical utilization         South Manuel     0    Iceland   \n",
       "6  Sharable client-driven software       Jamieberg        1    Norway    \n",
       "7  Enhanced dedicated support            Brandonstad      0    Myanmar   \n",
       "8  Reactive local challenge              Port Jefferybury 1    Australia \n",
       "9  Configurable coherent function        West Colin       1    Grenada   \n",
       "10 Mandatory homogeneous architecture    Ramirezton       1    Ghana     \n",
       "   timestamp           clicked_on_ad Date date time\n",
       "1  2016-03-27 00:53:11 0             <NA> NA   NA  \n",
       "2  2016-04-04 01:39:02 0             <NA> NA   NA  \n",
       "3  2016-03-13 20:35:42 0             <NA> NA   NA  \n",
       "4  2016-01-10 02:31:19 0             <NA> NA   NA  \n",
       "5  2016-06-03 03:36:18 0             <NA> NA   NA  \n",
       "6  2016-05-19 14:30:17 0             <NA> NA   NA  \n",
       "7  2016-01-28 20:59:32 0             <NA> NA   NA  \n",
       "8  2016-03-07 01:40:15 1             <NA> NA   NA  \n",
       "9  2016-04-18 09:33:42 0             <NA> NA   NA  \n",
       "10 2016-07-11 01:42:51 0             <NA> NA   NA  "
      ]
     },
     "metadata": {},
     "output_type": "display_data"
    }
   ],
   "source": [
    "head(adv,10)"
   ]
  },
  {
   "cell_type": "code",
   "execution_count": null,
   "metadata": {},
   "outputs": [],
   "source": []
  },
  {
   "cell_type": "code",
   "execution_count": 54,
   "metadata": {},
   "outputs": [
    {
     "name": "stdout",
     "output_type": "stream",
     "text": [
      "Observations: 1,000\n",
      "Variables: 10\n",
      "$ daily_time_spent_on_site <dbl> 68.95, 80.23, 69.47, 74.15, 68.37, 59.99, ...\n",
      "$ age                      <int> 35, 31, 26, 29, 35, 23, 33, 48, 30, 20, 49...\n",
      "$ area_income              <dbl> 61833.90, 68441.85, 59785.94, 54806.18, 73...\n",
      "$ daily_internet_usage     <dbl> 256.09, 193.77, 236.50, 245.89, 225.58, 22...\n",
      "$ ad_topic_line            <chr> \"92\", \"465\", \"567\", \"904\", \"767\", \"806\", \"...\n",
      "$ city                     <chr> \"962\", \"904\", \"112\", \"940\", \"806\", \"283\", ...\n",
      "$ male                     <int> 0, 1, 0, 1, 0, 1, 0, 1, 1, 1, 0, 1, 1, 0, ...\n",
      "$ country                  <chr> \"216\", \"148\", \"185\", \"104\", \"97\", \"159\", \"...\n",
      "$ timestamp                <fct> 2016-03-27 00:53:11, 2016-04-04 01:39:02, ...\n",
      "$ clicked_on_ad            <int> 0, 0, 0, 0, 0, 0, 0, 1, 0, 0, 1, 0, 1, 0, ...\n"
     ]
    }
   ],
   "source": []
  },
  {
   "cell_type": "code",
   "execution_count": null,
   "metadata": {},
   "outputs": [],
   "source": []
  }
 ],
 "metadata": {
  "kernelspec": {
   "display_name": "R",
   "language": "R",
   "name": "ir"
  },
  "language_info": {
   "codemirror_mode": "r",
   "file_extension": ".r",
   "mimetype": "text/x-r-source",
   "name": "R",
   "pygments_lexer": "r",
   "version": "3.6.1"
  }
 },
 "nbformat": 4,
 "nbformat_minor": 2
}
